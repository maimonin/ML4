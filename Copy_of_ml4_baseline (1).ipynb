{
  "nbformat": 4,
  "nbformat_minor": 0,
  "metadata": {
    "colab": {
      "provenance": [],
      "collapsed_sections": []
    },
    "kernelspec": {
      "name": "python3",
      "display_name": "Python 3"
    },
    "language_info": {
      "name": "python"
    }
  },
  "cells": [
    {
      "cell_type": "code",
      "source": [
        "import numpy as np\n",
        "import pandas as pd\n",
        "from sklearn.ensemble import RandomForestClassifier\n",
        "from sklearn.linear_model import LogisticRegression\n",
        "from sklearn.svm import SVC\n",
        "from sklearn.neighbors import KNeighborsClassifier\n",
        "from sklearn.naive_bayes import GaussianNB\n",
        "from sklearn.metrics import accuracy_score\n",
        "from sklearn.metrics import roc_auc_score\n",
        "from sklearn.metrics import matthews_corrcoef\n",
        "from sklearn.metrics import precision_recall_curve\n",
        "from sklearn.feature_selection import RFE\n",
        "from sklearn.feature_selection import SelectFdr\n",
        "from sklearn.model_selection import LeavePOut, StratifiedKFold\n",
        "from sklearn.model_selection import LeaveOneOut\n",
        "from sklearn.svm import SVR\n",
        "from ReliefF import ReliefF\n",
        "from sklearn.model_selection import KFold\n",
        "import time\n",
        "from sklearn.feature_selection import SelectKBest"
      ],
      "metadata": {
        "id": "olsW4M9wQiDJ"
      },
      "execution_count": null,
      "outputs": []
    },
    {
      "cell_type": "code",
      "source": [
        "!pip install numpy Cython\n",
        "!pip install -U pymrmr\n",
        "\n",
        "\n",
        "!CC=gcc-10 CXX=g++-10 pip install -U pymrmr"
      ],
      "metadata": {
        "colab": {
          "base_uri": "https://localhost:8080/"
        },
        "id": "bYnBkjS2gfMH",
        "outputId": "8016844a-ce63-4b7f-b265-f3d446d55c02"
      },
      "execution_count": null,
      "outputs": [
        {
          "output_type": "stream",
          "name": "stdout",
          "text": [
            "Looking in indexes: https://pypi.org/simple, https://us-python.pkg.dev/colab-wheels/public/simple/\n",
            "Requirement already satisfied: numpy in /usr/local/lib/python3.7/dist-packages (1.21.6)\n",
            "Requirement already satisfied: Cython in /usr/local/lib/python3.7/dist-packages (0.29.32)\n",
            "Looking in indexes: https://pypi.org/simple, https://us-python.pkg.dev/colab-wheels/public/simple/\n",
            "Requirement already satisfied: pymrmr in /usr/local/lib/python3.7/dist-packages (0.1.11)\n",
            "Requirement already satisfied: numpy>=1.19.5 in /usr/local/lib/python3.7/dist-packages (from pymrmr) (1.21.6)\n",
            "Looking in indexes: https://pypi.org/simple, https://us-python.pkg.dev/colab-wheels/public/simple/\n",
            "Requirement already satisfied: pymrmr in /usr/local/lib/python3.7/dist-packages (0.1.11)\n",
            "Requirement already satisfied: numpy>=1.19.5 in /usr/local/lib/python3.7/dist-packages (from pymrmr) (1.21.6)\n"
          ]
        }
      ]
    },
    {
      "cell_type": "code",
      "source": [
        "import pymrmr"
      ],
      "metadata": {
        "id": "JbtgO6zEg1yv"
      },
      "execution_count": null,
      "outputs": []
    },
    {
      "cell_type": "code",
      "source": [
        "def get_cv(df):\n",
        "    n = df.shape[0]\n",
        "    if n < 50:\n",
        "        return LeavePOut(2), 'LeavePairOut'\n",
        "    if n < 100:\n",
        "        return LeaveOneOut(), 'LeaveOneOut'\n",
        "    if n < 1000:\n",
        "        return StratifiedKFold(n_splits=10), '10Folds'\n",
        "    return StratifiedKFold(n_splits=5), '5Folds'"
      ],
      "metadata": {
        "id": "q_gYJVU_QkBK"
      },
      "execution_count": null,
      "outputs": []
    },
    {
      "cell_type": "code",
      "source": [
        "def run_classification(model, X, y):\n",
        "    cv, cv_name = get_cv(X)\n",
        "    print(cv_name)\n",
        "    fit_times = []\n",
        "    pred_times = []\n",
        "    aucs = []\n",
        "    accs = []\n",
        "    mccs = []\n",
        "    praucs = []\n",
        "    total_folds = cv.get_n_splits(X, y)\n",
        "    for train_index, test_index in cv.split(X, y):\n",
        "        X_train, X_test = X.iloc[train_index], X.iloc[test_index]\n",
        "        y_train, y_test = y.iloc[train_index], y.iloc[test_index]\n",
        "        fit_time = time.time()\n",
        "        model.fit(X_train, y_train)\n",
        "        fit_times.append(time.time() - fit_time)\n",
        "        pred_time = time.time()\n",
        "        probs = model.predict_proba(X_test)\n",
        "        pred_times.append(time.time() - pred_time)\n",
        "        preds = model.predict(X_test)\n",
        "        try:\n",
        "            aucs.append(roc_auc_score(y_test, probs, multi_class='ovo'))\n",
        "        except Exception as e:\n",
        "            # print(str(e))\n",
        "            try:\n",
        "                aucs.append(roc_auc_score(y_test, probs[:, 1], multi_class='ovo'))\n",
        "            except Exception as e:\n",
        "                # print(str(e))\n",
        "                aucs.append(None)\n",
        "        accs.append(accuracy_score(y_test, preds))\n",
        "        mccs.append(matthews_corrcoef(y_test, preds))\n",
        "        try:\n",
        "            precision, _, _ = precision_recall_curve(y_test, probs[:, 1], pos_label=y_test.unique()[1,])\n",
        "        except:\n",
        "            precision = None\n",
        "        praucs.append(precision)\n",
        "    return fit_times, pred_times, aucs, accs, mccs, praucs, total_folds, cv_name"
      ],
      "metadata": {
        "id": "jjMw-udUQuBM"
      },
      "execution_count": null,
      "outputs": []
    },
    {
      "cell_type": "code",
      "source": [
        "def ReliefF_selector(x, y, k):\n",
        "    fs = ReliefF(n_neighbors=1, n_features_to_keep=k)\n",
        "    fs.fit(x.to_numpy(), y)\n",
        "    f_names = fs.top_features[:k]\n",
        "    scores = fs.feature_scores[:k]\n",
        "    feature_names_in_ = x.columns\n",
        "    x_to = x.iloc[:, f_names]\n",
        "    return x_to, scores, f_names, feature_names_in_"
      ],
      "metadata": {
        "id": "dw2sHWSMT0Vv"
      },
      "execution_count": null,
      "outputs": []
    },
    {
      "cell_type": "code",
      "source": [
        "def rfe_selector(x, y, k):\n",
        "    estimator = SVR(kernel=\"linear\")\n",
        "    selector = RFE(estimator, n_features_to_select=k, step=1)\n",
        "    selector.fit(x, y)\n",
        "    f_names = selector.get_feature_names_out(x.columns)\n",
        "    return x[f_names], selector.scores_, f_names, x.columns"
      ],
      "metadata": {
        "id": "1daguHLlQwjS"
      },
      "execution_count": null,
      "outputs": []
    },
    {
      "cell_type": "code",
      "source": [
        "def fdr_selector(x, y, k):\n",
        "    fdr = SelectFdr(alpha=0.01)\n",
        "    fdr.fit(x, y)\n",
        "    feature_names_in_ = fdr.get_feature_names_out(x.columns)\n",
        "    fs_fdr = x[feature_names_in_]\n",
        "    fs_f = SelectKBest(k=k)\n",
        "    fs_f.fit(fs_fdr, y)\n",
        "    f_names = fs_f.get_feature_names_out(fs_fdr.columns)\n",
        "    return fs_fdr[f_names], fs_f.scores_, f_names, feature_names_in_"
      ],
      "metadata": {
        "id": "VzReql54Qx1X"
      },
      "execution_count": null,
      "outputs": []
    },
    {
      "cell_type": "code",
      "source": [
        "def mRMR_selector(df, x, y, k):\n",
        "  cols = df.columns.to_list()\n",
        "  df = df[['y'] + cols]\n",
        "  df = df.iloc[: , :-1]\n",
        "  names_f = pymrmr.mRMR(df, 'MIQ', k)\n",
        "  fs_f = SelectKBest(k=k)\n",
        "  fs_f.fit(x[names_f], y)\n",
        "  feature_names_in_ = df.columns[1:]\n",
        "  return x[names_f], fs_f.scores_, names_f, feature_names_in_\n"
      ],
      "metadata": {
        "id": "lsNndrKgjb1K"
      },
      "execution_count": null,
      "outputs": []
    },
    {
      "cell_type": "code",
      "source": [
        "def get_model(model):\n",
        "    models = {'RandomForest': RandomForestClassifier(), 'LogisticRegression': LogisticRegression(),\n",
        "              'svm': SVC(probability=True),\n",
        "              'NB': GaussianNB(), 'knn': KNeighborsClassifier()}\n",
        "    return models[model]"
      ],
      "metadata": {
        "id": "bofM8ZFaQ0Vv"
      },
      "execution_count": null,
      "outputs": []
    },
    {
      "cell_type": "code",
      "execution_count": null,
      "metadata": {
        "id": "vRO8QgUaQeTK"
      },
      "outputs": [],
      "source": [
        "def main():\n",
        "    ks = [1, 2, 3, 4, 5, 10, 15, 20, 25, 30, 50, 100]\n",
        "    names = ['CLL-SUB-111', 'ALLAML', 'BASEHOCK', 'COIL20', 'Carcinom', 'pone.0202167.s016', 'pone.0202167.s017',\n",
        "             'bladderbatch', 'ayeastCC', 'breastCancerVDX', 'curatedOvarianData', 'leukemiasEset', 'Lung', 'Lymphoma',\n",
        "             'MLL', 'SRBCT', 'CNS', 'pone.0202167.s011', 'pone.0202167.s012', 'pone.0202167.s015']\n",
        "\n",
        "\n",
        "\n",
        "    for i in range(20):\n",
        "        try:\n",
        "              save = pd.DataFrame(\n",
        "                columns=['Dataset Name', 'Number of samples', 'Original Number of features', 'Filtering Algorithm',\n",
        "                 'Learning algorithm', 'Number of features selected (K)', 'CV Method', 'Fold', 'Measure Type',\n",
        "                 'Measure Value', 'List of Selected Features Names', 'Selected Features scores'])\n",
        "              df = pd.read_csv(f'datasets/dataset_{i}.csv').drop(columns=['Unnamed: 0'])\n",
        "              x = df.drop(columns=['y'])\n",
        "              y = df['y']\n",
        "              print(x.shape[1])\n",
        "              for k in ks:\n",
        "                  feature_selection_time = time.time()\n",
        "                  # X, f_scores, names_f, feature_names_in_ = fdr_selector(x, y, k)\n",
        "                  # X, f_scores, names_f, feature_names_in_ = rfe_selector(x, y, k)\n",
        "                  # X, f_scores, names_f, feature_names_in_ = ReliefF_selector(x, y, k)\n",
        "                  X, f_scores, names_f, feature_names_in_ = mRMR_selector(df, x, y, k)\n",
        "                  feature_selection_time = time.time() - feature_selection_time\n",
        "                  models = ['svm', 'knn', 'RandomForest', 'NB', 'LogisticRegression']\n",
        "                  for m in models:\n",
        "                      model = get_model(m)\n",
        "                      ind = [np.where(feature_names_in_ == name)[0][0] for name in names_f]\n",
        "                      print('len:', len(f_scores))\n",
        "                      print(ind)\n",
        "                      scores = f_scores\n",
        "                      fit_times, pred_times, aucs, accs, mccs, praucs, total_folds, cv_name = run_classification(model,\n",
        "                                                                                                                pd.DataFrame(\n",
        "                                                                                                                    X), y)\n",
        "                      row_auc = [names[i], X.shape[0], X.shape[1], 'mRMR', m, k, cv_name, total_folds, 'AUC', aucs,\n",
        "                                str(names_f), scores]\n",
        "                      save.loc[len(save)] = row_auc\n",
        "                      row_acc = [names[i], X.shape[0], X.shape[1], 'mRMR', m, k, cv_name, total_folds, 'ACC', accs,\n",
        "                                str(names_f), scores]\n",
        "                      save.loc[len(save)] = row_acc\n",
        "                      row_mcc = [names[i], X.shape[0], X.shape[1], 'mRMR', m, k, cv_name, total_folds, 'MCC', mccs,\n",
        "                                str(names_f), scores]\n",
        "                      save.loc[len(save)] = row_mcc\n",
        "                      row_prauc = [names[i], X.shape[0], X.shape[1], 'mRMR', m, k, cv_name, total_folds, 'PR-AU',\n",
        "                                  praucs, str(names_f), scores]\n",
        "                      save.loc[len(save)] = row_prauc\n",
        "                      row_pred_time = [names[i], X.shape[0], X.shape[1], 'mRMR', m, k, cv_name, total_folds,\n",
        "                                      'prediction time', pred_times, str(names_f), scores]\n",
        "                      save.loc[len(save)] = row_pred_time\n",
        "                      row_fit_time = [names[i], X.shape[0], X.shape[1], 'mRMR', m, k, cv_name, total_folds, 'fit time',\n",
        "                                      fit_times, str(names_f), scores]\n",
        "                      save.loc[len(save)] = row_fit_time\n",
        "                      row_selection_time = [names[i], X.shape[0], X.shape[1], 'mRMR', m, k, cv_name, total_folds,\n",
        "                                            'feature selection time', feature_selection_time, str(names_f), scores]\n",
        "                      save.loc[len(save)] = row_selection_time\n",
        "              print('-----------------------------------------')\n",
        "              print(i)\n",
        "              save.to_csv(f'fre_selector_{i}.csv')\n",
        "        except Exception as e:\n",
        "          print(e)\n",
        "          print(f'WORNING - {i} failed')"
      ]
    },
    {
      "cell_type": "code",
      "source": [
        "main()"
      ],
      "metadata": {
        "colab": {
          "base_uri": "https://localhost:8080/"
        },
        "id": "GvAusL4tQ7QJ",
        "outputId": "c096353d-79d6-4290-e7a9-aa5cb064cf6c"
      },
      "execution_count": null,
      "outputs": [
        {
          "metadata": {
            "tags": null
          },
          "name": "stdout",
          "output_type": "stream",
          "text": [
            "11340\n",
            "len: 1\n",
            "[3011]\n",
            "10Folds\n",
            "len: 1\n",
            "[3011]\n",
            "10Folds\n",
            "len: 1\n",
            "[3011]\n",
            "10Folds\n",
            "len: 1\n",
            "[3011]\n",
            "10Folds\n",
            "len: 1\n",
            "[3011]\n",
            "10Folds\n",
            "std::bad_array_new_length\n",
            "WORNING - 0 failed\n",
            "7129\n",
            "len: 1\n",
            "[2287]\n",
            "LeaveOneOut\n",
            "len: 1\n",
            "[2287]\n",
            "LeaveOneOut\n",
            "len: 1\n",
            "[2287]\n",
            "LeaveOneOut\n",
            "len: 1\n",
            "[2287]\n",
            "LeaveOneOut\n",
            "len: 1\n",
            "[2287]\n",
            "LeaveOneOut\n",
            "len: 2\n",
            "[2287, 6684]\n",
            "LeaveOneOut\n",
            "len: 2\n",
            "[2287, 6684]\n",
            "LeaveOneOut\n",
            "len: 2\n",
            "[2287, 6684]\n",
            "LeaveOneOut\n",
            "len: 2\n",
            "[2287, 6684]\n",
            "LeaveOneOut\n",
            "len: 2\n",
            "[2287, 6684]\n",
            "LeaveOneOut\n",
            "len: 3\n",
            "[2287, 6684, 5764]\n",
            "LeaveOneOut\n",
            "len: 3\n",
            "[2287, 6684, 5764]\n",
            "LeaveOneOut\n",
            "len: 3\n",
            "[2287, 6684, 5764]\n",
            "LeaveOneOut\n",
            "len: 3\n",
            "[2287, 6684, 5764]\n",
            "LeaveOneOut\n",
            "len: 3\n",
            "[2287, 6684, 5764]\n",
            "LeaveOneOut\n",
            "len: 4\n",
            "[2287, 6684, 5764, 1881]\n",
            "LeaveOneOut\n",
            "len: 4\n",
            "[2287, 6684, 5764, 1881]\n",
            "LeaveOneOut\n",
            "len: 4\n",
            "[2287, 6684, 5764, 1881]\n",
            "LeaveOneOut\n",
            "len: 4\n",
            "[2287, 6684, 5764, 1881]\n",
            "LeaveOneOut\n",
            "len: 4\n",
            "[2287, 6684, 5764, 1881]\n",
            "LeaveOneOut\n",
            "len: 5\n",
            "[2287, 6684, 5764, 1881, 1833]\n",
            "LeaveOneOut\n",
            "len: 5\n",
            "[2287, 6684, 5764, 1881, 1833]\n",
            "LeaveOneOut\n",
            "len: 5\n",
            "[2287, 6684, 5764, 1881, 1833]\n",
            "LeaveOneOut\n",
            "len: 5\n",
            "[2287, 6684, 5764, 1881, 1833]\n",
            "LeaveOneOut\n",
            "len: 5\n",
            "[2287, 6684, 5764, 1881, 1833]\n",
            "LeaveOneOut\n",
            "len: 10\n",
            "[2287, 6684, 5764, 1881, 1833, 6200, 803, 1778, 759, 667]\n",
            "LeaveOneOut\n",
            "len: 10\n",
            "[2287, 6684, 5764, 1881, 1833, 6200, 803, 1778, 759, 667]\n",
            "LeaveOneOut\n",
            "len: 10\n",
            "[2287, 6684, 5764, 1881, 1833, 6200, 803, 1778, 759, 667]\n",
            "LeaveOneOut\n",
            "len: 10\n",
            "[2287, 6684, 5764, 1881, 1833, 6200, 803, 1778, 759, 667]\n",
            "LeaveOneOut\n",
            "len: 10\n",
            "[2287, 6684, 5764, 1881, 1833, 6200, 803, 1778, 759, 667]\n",
            "LeaveOneOut\n",
            "len: 15\n",
            "[2287, 6684, 5764, 1881, 1833, 6200, 803, 1778, 759, 667, 2014, 1143, 2120, 2353, 6802]\n",
            "LeaveOneOut\n",
            "len: 15\n",
            "[2287, 6684, 5764, 1881, 1833, 6200, 803, 1778, 759, 667, 2014, 1143, 2120, 2353, 6802]\n",
            "LeaveOneOut\n",
            "len: 15\n",
            "[2287, 6684, 5764, 1881, 1833, 6200, 803, 1778, 759, 667, 2014, 1143, 2120, 2353, 6802]\n",
            "LeaveOneOut\n",
            "len: 15\n",
            "[2287, 6684, 5764, 1881, 1833, 6200, 803, 1778, 759, 667, 2014, 1143, 2120, 2353, 6802]\n",
            "LeaveOneOut\n",
            "len: 15\n",
            "[2287, 6684, 5764, 1881, 1833, 6200, 803, 1778, 759, 667, 2014, 1143, 2120, 2353, 6802]\n",
            "LeaveOneOut\n",
            "len: 20\n",
            "[2287, 6684, 5764, 1881, 1833, 6200, 803, 1778, 759, 667, 2014, 1143, 2120, 2353, 6802, 3251, 1673, 5038, 5300, 2401]\n",
            "LeaveOneOut\n",
            "len: 20\n",
            "[2287, 6684, 5764, 1881, 1833, 6200, 803, 1778, 759, 667, 2014, 1143, 2120, 2353, 6802, 3251, 1673, 5038, 5300, 2401]\n",
            "LeaveOneOut\n",
            "len: 20\n",
            "[2287, 6684, 5764, 1881, 1833, 6200, 803, 1778, 759, 667, 2014, 1143, 2120, 2353, 6802, 3251, 1673, 5038, 5300, 2401]\n",
            "LeaveOneOut\n",
            "len: 20\n",
            "[2287, 6684, 5764, 1881, 1833, 6200, 803, 1778, 759, 667, 2014, 1143, 2120, 2353, 6802, 3251, 1673, 5038, 5300, 2401]\n",
            "LeaveOneOut\n",
            "len: 20\n",
            "[2287, 6684, 5764, 1881, 1833, 6200, 803, 1778, 759, 667, 2014, 1143, 2120, 2353, 6802, 3251, 1673, 5038, 5300, 2401]\n",
            "LeaveOneOut\n",
            "len: 25\n",
            "[2287, 6684, 5764, 1881, 1833, 6200, 803, 1778, 759, 667, 2014, 1143, 2120, 2353, 6802, 3251, 1673, 5038, 5300, 2401, 1828, 1684, 3319, 1925, 6404]\n",
            "LeaveOneOut\n",
            "len: 25\n",
            "[2287, 6684, 5764, 1881, 1833, 6200, 803, 1778, 759, 667, 2014, 1143, 2120, 2353, 6802, 3251, 1673, 5038, 5300, 2401, 1828, 1684, 3319, 1925, 6404]\n",
            "LeaveOneOut\n",
            "len: 25\n",
            "[2287, 6684, 5764, 1881, 1833, 6200, 803, 1778, 759, 667, 2014, 1143, 2120, 2353, 6802, 3251, 1673, 5038, 5300, 2401, 1828, 1684, 3319, 1925, 6404]\n",
            "LeaveOneOut\n",
            "len: 25\n",
            "[2287, 6684, 5764, 1881, 1833, 6200, 803, 1778, 759, 667, 2014, 1143, 2120, 2353, 6802, 3251, 1673, 5038, 5300, 2401, 1828, 1684, 3319, 1925, 6404]\n",
            "LeaveOneOut\n",
            "len: 25\n",
            "[2287, 6684, 5764, 1881, 1833, 6200, 803, 1778, 759, 667, 2014, 1143, 2120, 2353, 6802, 3251, 1673, 5038, 5300, 2401, 1828, 1684, 3319, 1925, 6404]\n",
            "LeaveOneOut\n",
            "len: 30\n",
            "[2287, 6684, 5764, 1881, 1833, 6200, 803, 1778, 759, 667, 2014, 1143, 2120, 2353, 6802, 3251, 1673, 5038, 5300, 2401, 1828, 1684, 3319, 1925, 6404, 1724, 1908, 4195, 1399, 2545]\n",
            "LeaveOneOut\n",
            "len: 30\n",
            "[2287, 6684, 5764, 1881, 1833, 6200, 803, 1778, 759, 667, 2014, 1143, 2120, 2353, 6802, 3251, 1673, 5038, 5300, 2401, 1828, 1684, 3319, 1925, 6404, 1724, 1908, 4195, 1399, 2545]\n",
            "LeaveOneOut\n",
            "len: 30\n",
            "[2287, 6684, 5764, 1881, 1833, 6200, 803, 1778, 759, 667, 2014, 1143, 2120, 2353, 6802, 3251, 1673, 5038, 5300, 2401, 1828, 1684, 3319, 1925, 6404, 1724, 1908, 4195, 1399, 2545]\n",
            "LeaveOneOut\n",
            "len: 30\n",
            "[2287, 6684, 5764, 1881, 1833, 6200, 803, 1778, 759, 667, 2014, 1143, 2120, 2353, 6802, 3251, 1673, 5038, 5300, 2401, 1828, 1684, 3319, 1925, 6404, 1724, 1908, 4195, 1399, 2545]\n",
            "LeaveOneOut\n",
            "len: 30\n",
            "[2287, 6684, 5764, 1881, 1833, 6200, 803, 1778, 759, 667, 2014, 1143, 2120, 2353, 6802, 3251, 1673, 5038, 5300, 2401, 1828, 1684, 3319, 1925, 6404, 1724, 1908, 4195, 1399, 2545]\n",
            "LeaveOneOut\n",
            "len: 50\n",
            "[2287, 6684, 5764, 1881, 1833, 6200, 803, 1778, 759, 667, 2014, 1143, 2120, 2353, 6802, 3251, 1673, 5038, 5300, 2401, 1828, 1684, 3319, 1925, 6404, 1724, 1908, 4195, 1399, 2545, 1961, 4372, 4846, 2832, 5771, 6040, 2241, 6805, 4897, 3011, 1305, 1806, 6224, 2127, 6377, 1744, 4327, 4679, 6375, 6854]\n",
            "LeaveOneOut\n",
            "len: 50\n",
            "[2287, 6684, 5764, 1881, 1833, 6200, 803, 1778, 759, 667, 2014, 1143, 2120, 2353, 6802, 3251, 1673, 5038, 5300, 2401, 1828, 1684, 3319, 1925, 6404, 1724, 1908, 4195, 1399, 2545, 1961, 4372, 4846, 2832, 5771, 6040, 2241, 6805, 4897, 3011, 1305, 1806, 6224, 2127, 6377, 1744, 4327, 4679, 6375, 6854]\n",
            "LeaveOneOut\n",
            "len: 50\n",
            "[2287, 6684, 5764, 1881, 1833, 6200, 803, 1778, 759, 667, 2014, 1143, 2120, 2353, 6802, 3251, 1673, 5038, 5300, 2401, 1828, 1684, 3319, 1925, 6404, 1724, 1908, 4195, 1399, 2545, 1961, 4372, 4846, 2832, 5771, 6040, 2241, 6805, 4897, 3011, 1305, 1806, 6224, 2127, 6377, 1744, 4327, 4679, 6375, 6854]\n",
            "LeaveOneOut\n",
            "len: 50\n",
            "[2287, 6684, 5764, 1881, 1833, 6200, 803, 1778, 759, 667, 2014, 1143, 2120, 2353, 6802, 3251, 1673, 5038, 5300, 2401, 1828, 1684, 3319, 1925, 6404, 1724, 1908, 4195, 1399, 2545, 1961, 4372, 4846, 2832, 5771, 6040, 2241, 6805, 4897, 3011, 1305, 1806, 6224, 2127, 6377, 1744, 4327, 4679, 6375, 6854]\n",
            "LeaveOneOut\n",
            "len: 50\n",
            "[2287, 6684, 5764, 1881, 1833, 6200, 803, 1778, 759, 667, 2014, 1143, 2120, 2353, 6802, 3251, 1673, 5038, 5300, 2401, 1828, 1684, 3319, 1925, 6404, 1724, 1908, 4195, 1399, 2545, 1961, 4372, 4846, 2832, 5771, 6040, 2241, 6805, 4897, 3011, 1305, 1806, 6224, 2127, 6377, 1744, 4327, 4679, 6375, 6854]\n",
            "LeaveOneOut\n",
            "len: 100\n",
            "[2287, 6684, 5764, 1881, 1833, 6200, 803, 1778, 759, 667, 2014, 1143, 2120, 2353, 6802, 3251, 1673, 5038, 5300, 2401, 1828, 1684, 3319, 1925, 6404, 1724, 1908, 4195, 1399, 2545, 1961, 4372, 4846, 2832, 5771, 6040, 2241, 6805, 4897, 3011, 1305, 1806, 6224, 2127, 6377, 1744, 4327, 4679, 6375, 6854, 2362, 2732, 2009, 6918, 3257, 5061, 1206, 2110, 5765, 460, 4581, 1259, 1927, 5551, 6307, 6796, 5983, 1614, 6276, 3630, 4376, 4620, 4290, 2641, 6048, 757, 1703, 6280, 4210, 6562, 1932, 5785, 5500, 5793, 6800, 2944, 4228, 6217, 7118, 921, 6538, 6372, 7018, 6622, 320, 2854, 5598, 4437, 3846, 1158]\n",
            "LeaveOneOut\n",
            "len: 100\n",
            "[2287, 6684, 5764, 1881, 1833, 6200, 803, 1778, 759, 667, 2014, 1143, 2120, 2353, 6802, 3251, 1673, 5038, 5300, 2401, 1828, 1684, 3319, 1925, 6404, 1724, 1908, 4195, 1399, 2545, 1961, 4372, 4846, 2832, 5771, 6040, 2241, 6805, 4897, 3011, 1305, 1806, 6224, 2127, 6377, 1744, 4327, 4679, 6375, 6854, 2362, 2732, 2009, 6918, 3257, 5061, 1206, 2110, 5765, 460, 4581, 1259, 1927, 5551, 6307, 6796, 5983, 1614, 6276, 3630, 4376, 4620, 4290, 2641, 6048, 757, 1703, 6280, 4210, 6562, 1932, 5785, 5500, 5793, 6800, 2944, 4228, 6217, 7118, 921, 6538, 6372, 7018, 6622, 320, 2854, 5598, 4437, 3846, 1158]\n",
            "LeaveOneOut\n",
            "len: 100\n",
            "[2287, 6684, 5764, 1881, 1833, 6200, 803, 1778, 759, 667, 2014, 1143, 2120, 2353, 6802, 3251, 1673, 5038, 5300, 2401, 1828, 1684, 3319, 1925, 6404, 1724, 1908, 4195, 1399, 2545, 1961, 4372, 4846, 2832, 5771, 6040, 2241, 6805, 4897, 3011, 1305, 1806, 6224, 2127, 6377, 1744, 4327, 4679, 6375, 6854, 2362, 2732, 2009, 6918, 3257, 5061, 1206, 2110, 5765, 460, 4581, 1259, 1927, 5551, 6307, 6796, 5983, 1614, 6276, 3630, 4376, 4620, 4290, 2641, 6048, 757, 1703, 6280, 4210, 6562, 1932, 5785, 5500, 5793, 6800, 2944, 4228, 6217, 7118, 921, 6538, 6372, 7018, 6622, 320, 2854, 5598, 4437, 3846, 1158]\n",
            "LeaveOneOut\n",
            "len: 100\n",
            "[2287, 6684, 5764, 1881, 1833, 6200, 803, 1778, 759, 667, 2014, 1143, 2120, 2353, 6802, 3251, 1673, 5038, 5300, 2401, 1828, 1684, 3319, 1925, 6404, 1724, 1908, 4195, 1399, 2545, 1961, 4372, 4846, 2832, 5771, 6040, 2241, 6805, 4897, 3011, 1305, 1806, 6224, 2127, 6377, 1744, 4327, 4679, 6375, 6854, 2362, 2732, 2009, 6918, 3257, 5061, 1206, 2110, 5765, 460, 4581, 1259, 1927, 5551, 6307, 6796, 5983, 1614, 6276, 3630, 4376, 4620, 4290, 2641, 6048, 757, 1703, 6280, 4210, 6562, 1932, 5785, 5500, 5793, 6800, 2944, 4228, 6217, 7118, 921, 6538, 6372, 7018, 6622, 320, 2854, 5598, 4437, 3846, 1158]\n",
            "LeaveOneOut\n",
            "len: 100\n",
            "[2287, 6684, 5764, 1881, 1833, 6200, 803, 1778, 759, 667, 2014, 1143, 2120, 2353, 6802, 3251, 1673, 5038, 5300, 2401, 1828, 1684, 3319, 1925, 6404, 1724, 1908, 4195, 1399, 2545, 1961, 4372, 4846, 2832, 5771, 6040, 2241, 6805, 4897, 3011, 1305, 1806, 6224, 2127, 6377, 1744, 4327, 4679, 6375, 6854, 2362, 2732, 2009, 6918, 3257, 5061, 1206, 2110, 5765, 460, 4581, 1259, 1927, 5551, 6307, 6796, 5983, 1614, 6276, 3630, 4376, 4620, 4290, 2641, 6048, 757, 1703, 6280, 4210, 6562, 1932, 5785, 5500, 5793, 6800, 2944, 4228, 6217, 7118, 921, 6538, 6372, 7018, 6622, 320, 2854, 5598, 4437, 3846, 1158]\n",
            "LeaveOneOut\n",
            "-----------------------------------------\n",
            "1\n",
            "4862\n",
            "cannot convert float NaN to integer\n",
            "WORNING - 2 failed\n",
            "980\n",
            "len: 1\n",
            "[426]\n",
            "5Folds\n",
            "len: 1\n",
            "[426]\n",
            "5Folds\n",
            "len: 1\n",
            "[426]\n",
            "5Folds\n",
            "len: 1\n",
            "[426]\n",
            "5Folds\n",
            "len: 1\n",
            "[426]\n",
            "5Folds\n",
            "len: 2\n",
            "[426, 907]\n",
            "5Folds\n",
            "len: 2\n",
            "[426, 907]\n",
            "5Folds\n",
            "len: 2\n",
            "[426, 907]\n",
            "5Folds\n",
            "len: 2\n",
            "[426, 907]\n",
            "5Folds\n",
            "len: 2\n",
            "[426, 907]\n",
            "5Folds\n",
            "len: 3\n",
            "[426, 907, 116]\n",
            "5Folds\n",
            "len: 3\n",
            "[426, 907, 116]\n",
            "5Folds\n",
            "len: 3\n",
            "[426, 907, 116]\n",
            "5Folds\n",
            "len: 3\n",
            "[426, 907, 116]\n",
            "5Folds\n",
            "len: 3\n",
            "[426, 907, 116]\n",
            "5Folds\n",
            "len: 4\n",
            "[426, 907, 116, 728]\n",
            "5Folds\n",
            "len: 4\n",
            "[426, 907, 116, 728]\n",
            "5Folds\n",
            "len: 4\n",
            "[426, 907, 116, 728]\n",
            "5Folds\n",
            "len: 4\n",
            "[426, 907, 116, 728]\n",
            "5Folds\n",
            "len: 4\n",
            "[426, 907, 116, 728]\n",
            "5Folds\n",
            "len: 5\n",
            "[426, 907, 116, 728, 79]\n",
            "5Folds\n",
            "len: 5\n",
            "[426, 907, 116, 728, 79]\n",
            "5Folds\n",
            "len: 5\n",
            "[426, 907, 116, 728, 79]\n",
            "5Folds\n",
            "len: 5\n",
            "[426, 907, 116, 728, 79]\n",
            "5Folds\n",
            "len: 5\n",
            "[426, 907, 116, 728, 79]\n",
            "5Folds\n",
            "len: 10\n",
            "[426, 907, 116, 728, 79, 443, 949, 252, 231, 309]\n",
            "5Folds\n",
            "len: 10\n",
            "[426, 907, 116, 728, 79, 443, 949, 252, 231, 309]\n",
            "5Folds\n",
            "len: 10\n",
            "[426, 907, 116, 728, 79, 443, 949, 252, 231, 309]\n",
            "5Folds\n",
            "len: 10\n",
            "[426, 907, 116, 728, 79, 443, 949, 252, 231, 309]\n",
            "5Folds\n",
            "len: 10\n",
            "[426, 907, 116, 728, 79, 443, 949, 252, 231, 309]\n",
            "5Folds\n"
          ]
        },
        {
          "metadata": {
            "tags": null
          },
          "name": "stderr",
          "output_type": "stream",
          "text": [
            "/usr/local/lib/python3.7/dist-packages/sklearn/linear_model/_logistic.py:818: ConvergenceWarning: lbfgs failed to converge (status=1):\n",
            "STOP: TOTAL NO. of ITERATIONS REACHED LIMIT.\n",
            "\n",
            "Increase the number of iterations (max_iter) or scale the data as shown in:\n",
            "    https://scikit-learn.org/stable/modules/preprocessing.html\n",
            "Please also refer to the documentation for alternative solver options:\n",
            "    https://scikit-learn.org/stable/modules/linear_model.html#logistic-regression\n",
            "  extra_warning_msg=_LOGISTIC_SOLVER_CONVERGENCE_MSG,\n"
          ]
        },
        {
          "metadata": {
            "tags": null
          },
          "name": "stdout",
          "output_type": "stream",
          "text": [
            "len: 15\n",
            "[426, 907, 116, 728, 79, 443, 949, 252, 231, 309, 626, 883, 313, 702, 129]\n",
            "5Folds\n",
            "len: 15\n",
            "[426, 907, 116, 728, 79, 443, 949, 252, 231, 309, 626, 883, 313, 702, 129]\n",
            "5Folds\n",
            "len: 15\n",
            "[426, 907, 116, 728, 79, 443, 949, 252, 231, 309, 626, 883, 313, 702, 129]\n",
            "5Folds\n",
            "len: 15\n",
            "[426, 907, 116, 728, 79, 443, 949, 252, 231, 309, 626, 883, 313, 702, 129]\n",
            "5Folds\n",
            "len: 15\n",
            "[426, 907, 116, 728, 79, 443, 949, 252, 231, 309, 626, 883, 313, 702, 129]\n",
            "5Folds\n"
          ]
        },
        {
          "metadata": {
            "tags": null
          },
          "name": "stderr",
          "output_type": "stream",
          "text": [
            "/usr/local/lib/python3.7/dist-packages/sklearn/linear_model/_logistic.py:818: ConvergenceWarning: lbfgs failed to converge (status=1):\n",
            "STOP: TOTAL NO. of ITERATIONS REACHED LIMIT.\n",
            "\n",
            "Increase the number of iterations (max_iter) or scale the data as shown in:\n",
            "    https://scikit-learn.org/stable/modules/preprocessing.html\n",
            "Please also refer to the documentation for alternative solver options:\n",
            "    https://scikit-learn.org/stable/modules/linear_model.html#logistic-regression\n",
            "  extra_warning_msg=_LOGISTIC_SOLVER_CONVERGENCE_MSG,\n",
            "/usr/local/lib/python3.7/dist-packages/sklearn/linear_model/_logistic.py:818: ConvergenceWarning: lbfgs failed to converge (status=1):\n",
            "STOP: TOTAL NO. of ITERATIONS REACHED LIMIT.\n",
            "\n",
            "Increase the number of iterations (max_iter) or scale the data as shown in:\n",
            "    https://scikit-learn.org/stable/modules/preprocessing.html\n",
            "Please also refer to the documentation for alternative solver options:\n",
            "    https://scikit-learn.org/stable/modules/linear_model.html#logistic-regression\n",
            "  extra_warning_msg=_LOGISTIC_SOLVER_CONVERGENCE_MSG,\n",
            "/usr/local/lib/python3.7/dist-packages/sklearn/linear_model/_logistic.py:818: ConvergenceWarning: lbfgs failed to converge (status=1):\n",
            "STOP: TOTAL NO. of ITERATIONS REACHED LIMIT.\n",
            "\n",
            "Increase the number of iterations (max_iter) or scale the data as shown in:\n",
            "    https://scikit-learn.org/stable/modules/preprocessing.html\n",
            "Please also refer to the documentation for alternative solver options:\n",
            "    https://scikit-learn.org/stable/modules/linear_model.html#logistic-regression\n",
            "  extra_warning_msg=_LOGISTIC_SOLVER_CONVERGENCE_MSG,\n",
            "/usr/local/lib/python3.7/dist-packages/sklearn/linear_model/_logistic.py:818: ConvergenceWarning: lbfgs failed to converge (status=1):\n",
            "STOP: TOTAL NO. of ITERATIONS REACHED LIMIT.\n",
            "\n",
            "Increase the number of iterations (max_iter) or scale the data as shown in:\n",
            "    https://scikit-learn.org/stable/modules/preprocessing.html\n",
            "Please also refer to the documentation for alternative solver options:\n",
            "    https://scikit-learn.org/stable/modules/linear_model.html#logistic-regression\n",
            "  extra_warning_msg=_LOGISTIC_SOLVER_CONVERGENCE_MSG,\n",
            "/usr/local/lib/python3.7/dist-packages/sklearn/linear_model/_logistic.py:818: ConvergenceWarning: lbfgs failed to converge (status=1):\n",
            "STOP: TOTAL NO. of ITERATIONS REACHED LIMIT.\n",
            "\n",
            "Increase the number of iterations (max_iter) or scale the data as shown in:\n",
            "    https://scikit-learn.org/stable/modules/preprocessing.html\n",
            "Please also refer to the documentation for alternative solver options:\n",
            "    https://scikit-learn.org/stable/modules/linear_model.html#logistic-regression\n",
            "  extra_warning_msg=_LOGISTIC_SOLVER_CONVERGENCE_MSG,\n"
          ]
        },
        {
          "metadata": {
            "tags": null
          },
          "name": "stdout",
          "output_type": "stream",
          "text": [
            "len: 20\n",
            "[426, 907, 116, 728, 79, 443, 949, 252, 231, 309, 626, 883, 313, 702, 129, 568, 10, 302, 5, 51]\n",
            "5Folds\n",
            "len: 20\n",
            "[426, 907, 116, 728, 79, 443, 949, 252, 231, 309, 626, 883, 313, 702, 129, 568, 10, 302, 5, 51]\n",
            "5Folds\n",
            "len: 20\n",
            "[426, 907, 116, 728, 79, 443, 949, 252, 231, 309, 626, 883, 313, 702, 129, 568, 10, 302, 5, 51]\n",
            "5Folds\n",
            "len: 20\n",
            "[426, 907, 116, 728, 79, 443, 949, 252, 231, 309, 626, 883, 313, 702, 129, 568, 10, 302, 5, 51]\n",
            "5Folds\n",
            "len: 20\n",
            "[426, 907, 116, 728, 79, 443, 949, 252, 231, 309, 626, 883, 313, 702, 129, 568, 10, 302, 5, 51]\n",
            "5Folds\n"
          ]
        },
        {
          "metadata": {
            "tags": null
          },
          "name": "stderr",
          "output_type": "stream",
          "text": [
            "/usr/local/lib/python3.7/dist-packages/sklearn/linear_model/_logistic.py:818: ConvergenceWarning: lbfgs failed to converge (status=1):\n",
            "STOP: TOTAL NO. of ITERATIONS REACHED LIMIT.\n",
            "\n",
            "Increase the number of iterations (max_iter) or scale the data as shown in:\n",
            "    https://scikit-learn.org/stable/modules/preprocessing.html\n",
            "Please also refer to the documentation for alternative solver options:\n",
            "    https://scikit-learn.org/stable/modules/linear_model.html#logistic-regression\n",
            "  extra_warning_msg=_LOGISTIC_SOLVER_CONVERGENCE_MSG,\n",
            "/usr/local/lib/python3.7/dist-packages/sklearn/linear_model/_logistic.py:818: ConvergenceWarning: lbfgs failed to converge (status=1):\n",
            "STOP: TOTAL NO. of ITERATIONS REACHED LIMIT.\n",
            "\n",
            "Increase the number of iterations (max_iter) or scale the data as shown in:\n",
            "    https://scikit-learn.org/stable/modules/preprocessing.html\n",
            "Please also refer to the documentation for alternative solver options:\n",
            "    https://scikit-learn.org/stable/modules/linear_model.html#logistic-regression\n",
            "  extra_warning_msg=_LOGISTIC_SOLVER_CONVERGENCE_MSG,\n",
            "/usr/local/lib/python3.7/dist-packages/sklearn/linear_model/_logistic.py:818: ConvergenceWarning: lbfgs failed to converge (status=1):\n",
            "STOP: TOTAL NO. of ITERATIONS REACHED LIMIT.\n",
            "\n",
            "Increase the number of iterations (max_iter) or scale the data as shown in:\n",
            "    https://scikit-learn.org/stable/modules/preprocessing.html\n",
            "Please also refer to the documentation for alternative solver options:\n",
            "    https://scikit-learn.org/stable/modules/linear_model.html#logistic-regression\n",
            "  extra_warning_msg=_LOGISTIC_SOLVER_CONVERGENCE_MSG,\n",
            "/usr/local/lib/python3.7/dist-packages/sklearn/linear_model/_logistic.py:818: ConvergenceWarning: lbfgs failed to converge (status=1):\n",
            "STOP: TOTAL NO. of ITERATIONS REACHED LIMIT.\n",
            "\n",
            "Increase the number of iterations (max_iter) or scale the data as shown in:\n",
            "    https://scikit-learn.org/stable/modules/preprocessing.html\n",
            "Please also refer to the documentation for alternative solver options:\n",
            "    https://scikit-learn.org/stable/modules/linear_model.html#logistic-regression\n",
            "  extra_warning_msg=_LOGISTIC_SOLVER_CONVERGENCE_MSG,\n",
            "/usr/local/lib/python3.7/dist-packages/sklearn/linear_model/_logistic.py:818: ConvergenceWarning: lbfgs failed to converge (status=1):\n",
            "STOP: TOTAL NO. of ITERATIONS REACHED LIMIT.\n",
            "\n",
            "Increase the number of iterations (max_iter) or scale the data as shown in:\n",
            "    https://scikit-learn.org/stable/modules/preprocessing.html\n",
            "Please also refer to the documentation for alternative solver options:\n",
            "    https://scikit-learn.org/stable/modules/linear_model.html#logistic-regression\n",
            "  extra_warning_msg=_LOGISTIC_SOLVER_CONVERGENCE_MSG,\n"
          ]
        },
        {
          "metadata": {
            "tags": null
          },
          "name": "stdout",
          "output_type": "stream",
          "text": [
            "len: 25\n",
            "[426, 907, 116, 728, 79, 443, 949, 252, 231, 309, 626, 883, 313, 702, 129, 568, 10, 302, 5, 51, 689, 635, 256, 118, 366]\n",
            "5Folds\n",
            "len: 25\n",
            "[426, 907, 116, 728, 79, 443, 949, 252, 231, 309, 626, 883, 313, 702, 129, 568, 10, 302, 5, 51, 689, 635, 256, 118, 366]\n",
            "5Folds\n",
            "len: 25\n",
            "[426, 907, 116, 728, 79, 443, 949, 252, 231, 309, 626, 883, 313, 702, 129, 568, 10, 302, 5, 51, 689, 635, 256, 118, 366]\n",
            "5Folds\n",
            "len: 25\n",
            "[426, 907, 116, 728, 79, 443, 949, 252, 231, 309, 626, 883, 313, 702, 129, 568, 10, 302, 5, 51, 689, 635, 256, 118, 366]\n",
            "5Folds\n",
            "len: 25\n",
            "[426, 907, 116, 728, 79, 443, 949, 252, 231, 309, 626, 883, 313, 702, 129, 568, 10, 302, 5, 51, 689, 635, 256, 118, 366]\n",
            "5Folds\n"
          ]
        },
        {
          "metadata": {
            "tags": null
          },
          "name": "stderr",
          "output_type": "stream",
          "text": [
            "/usr/local/lib/python3.7/dist-packages/sklearn/linear_model/_logistic.py:818: ConvergenceWarning: lbfgs failed to converge (status=1):\n",
            "STOP: TOTAL NO. of ITERATIONS REACHED LIMIT.\n",
            "\n",
            "Increase the number of iterations (max_iter) or scale the data as shown in:\n",
            "    https://scikit-learn.org/stable/modules/preprocessing.html\n",
            "Please also refer to the documentation for alternative solver options:\n",
            "    https://scikit-learn.org/stable/modules/linear_model.html#logistic-regression\n",
            "  extra_warning_msg=_LOGISTIC_SOLVER_CONVERGENCE_MSG,\n",
            "/usr/local/lib/python3.7/dist-packages/sklearn/linear_model/_logistic.py:818: ConvergenceWarning: lbfgs failed to converge (status=1):\n",
            "STOP: TOTAL NO. of ITERATIONS REACHED LIMIT.\n",
            "\n",
            "Increase the number of iterations (max_iter) or scale the data as shown in:\n",
            "    https://scikit-learn.org/stable/modules/preprocessing.html\n",
            "Please also refer to the documentation for alternative solver options:\n",
            "    https://scikit-learn.org/stable/modules/linear_model.html#logistic-regression\n",
            "  extra_warning_msg=_LOGISTIC_SOLVER_CONVERGENCE_MSG,\n",
            "/usr/local/lib/python3.7/dist-packages/sklearn/linear_model/_logistic.py:818: ConvergenceWarning: lbfgs failed to converge (status=1):\n",
            "STOP: TOTAL NO. of ITERATIONS REACHED LIMIT.\n",
            "\n",
            "Increase the number of iterations (max_iter) or scale the data as shown in:\n",
            "    https://scikit-learn.org/stable/modules/preprocessing.html\n",
            "Please also refer to the documentation for alternative solver options:\n",
            "    https://scikit-learn.org/stable/modules/linear_model.html#logistic-regression\n",
            "  extra_warning_msg=_LOGISTIC_SOLVER_CONVERGENCE_MSG,\n",
            "/usr/local/lib/python3.7/dist-packages/sklearn/linear_model/_logistic.py:818: ConvergenceWarning: lbfgs failed to converge (status=1):\n",
            "STOP: TOTAL NO. of ITERATIONS REACHED LIMIT.\n",
            "\n",
            "Increase the number of iterations (max_iter) or scale the data as shown in:\n",
            "    https://scikit-learn.org/stable/modules/preprocessing.html\n",
            "Please also refer to the documentation for alternative solver options:\n",
            "    https://scikit-learn.org/stable/modules/linear_model.html#logistic-regression\n",
            "  extra_warning_msg=_LOGISTIC_SOLVER_CONVERGENCE_MSG,\n",
            "/usr/local/lib/python3.7/dist-packages/sklearn/linear_model/_logistic.py:818: ConvergenceWarning: lbfgs failed to converge (status=1):\n",
            "STOP: TOTAL NO. of ITERATIONS REACHED LIMIT.\n",
            "\n",
            "Increase the number of iterations (max_iter) or scale the data as shown in:\n",
            "    https://scikit-learn.org/stable/modules/preprocessing.html\n",
            "Please also refer to the documentation for alternative solver options:\n",
            "    https://scikit-learn.org/stable/modules/linear_model.html#logistic-regression\n",
            "  extra_warning_msg=_LOGISTIC_SOLVER_CONVERGENCE_MSG,\n"
          ]
        },
        {
          "metadata": {
            "tags": null
          },
          "name": "stdout",
          "output_type": "stream",
          "text": [
            "len: 30\n",
            "[426, 907, 116, 728, 79, 443, 949, 252, 231, 309, 626, 883, 313, 702, 129, 568, 10, 302, 5, 51, 689, 635, 256, 118, 366, 65, 770, 413, 663, 282]\n",
            "5Folds\n",
            "len: 30\n",
            "[426, 907, 116, 728, 79, 443, 949, 252, 231, 309, 626, 883, 313, 702, 129, 568, 10, 302, 5, 51, 689, 635, 256, 118, 366, 65, 770, 413, 663, 282]\n",
            "5Folds\n",
            "len: 30\n",
            "[426, 907, 116, 728, 79, 443, 949, 252, 231, 309, 626, 883, 313, 702, 129, 568, 10, 302, 5, 51, 689, 635, 256, 118, 366, 65, 770, 413, 663, 282]\n",
            "5Folds\n",
            "len: 30\n",
            "[426, 907, 116, 728, 79, 443, 949, 252, 231, 309, 626, 883, 313, 702, 129, 568, 10, 302, 5, 51, 689, 635, 256, 118, 366, 65, 770, 413, 663, 282]\n",
            "5Folds\n",
            "len: 30\n",
            "[426, 907, 116, 728, 79, 443, 949, 252, 231, 309, 626, 883, 313, 702, 129, 568, 10, 302, 5, 51, 689, 635, 256, 118, 366, 65, 770, 413, 663, 282]\n",
            "5Folds\n"
          ]
        },
        {
          "metadata": {
            "tags": null
          },
          "name": "stderr",
          "output_type": "stream",
          "text": [
            "/usr/local/lib/python3.7/dist-packages/sklearn/linear_model/_logistic.py:818: ConvergenceWarning: lbfgs failed to converge (status=1):\n",
            "STOP: TOTAL NO. of ITERATIONS REACHED LIMIT.\n",
            "\n",
            "Increase the number of iterations (max_iter) or scale the data as shown in:\n",
            "    https://scikit-learn.org/stable/modules/preprocessing.html\n",
            "Please also refer to the documentation for alternative solver options:\n",
            "    https://scikit-learn.org/stable/modules/linear_model.html#logistic-regression\n",
            "  extra_warning_msg=_LOGISTIC_SOLVER_CONVERGENCE_MSG,\n",
            "/usr/local/lib/python3.7/dist-packages/sklearn/linear_model/_logistic.py:818: ConvergenceWarning: lbfgs failed to converge (status=1):\n",
            "STOP: TOTAL NO. of ITERATIONS REACHED LIMIT.\n",
            "\n",
            "Increase the number of iterations (max_iter) or scale the data as shown in:\n",
            "    https://scikit-learn.org/stable/modules/preprocessing.html\n",
            "Please also refer to the documentation for alternative solver options:\n",
            "    https://scikit-learn.org/stable/modules/linear_model.html#logistic-regression\n",
            "  extra_warning_msg=_LOGISTIC_SOLVER_CONVERGENCE_MSG,\n",
            "/usr/local/lib/python3.7/dist-packages/sklearn/linear_model/_logistic.py:818: ConvergenceWarning: lbfgs failed to converge (status=1):\n",
            "STOP: TOTAL NO. of ITERATIONS REACHED LIMIT.\n",
            "\n",
            "Increase the number of iterations (max_iter) or scale the data as shown in:\n",
            "    https://scikit-learn.org/stable/modules/preprocessing.html\n",
            "Please also refer to the documentation for alternative solver options:\n",
            "    https://scikit-learn.org/stable/modules/linear_model.html#logistic-regression\n",
            "  extra_warning_msg=_LOGISTIC_SOLVER_CONVERGENCE_MSG,\n",
            "/usr/local/lib/python3.7/dist-packages/sklearn/linear_model/_logistic.py:818: ConvergenceWarning: lbfgs failed to converge (status=1):\n",
            "STOP: TOTAL NO. of ITERATIONS REACHED LIMIT.\n",
            "\n",
            "Increase the number of iterations (max_iter) or scale the data as shown in:\n",
            "    https://scikit-learn.org/stable/modules/preprocessing.html\n",
            "Please also refer to the documentation for alternative solver options:\n",
            "    https://scikit-learn.org/stable/modules/linear_model.html#logistic-regression\n",
            "  extra_warning_msg=_LOGISTIC_SOLVER_CONVERGENCE_MSG,\n",
            "/usr/local/lib/python3.7/dist-packages/sklearn/linear_model/_logistic.py:818: ConvergenceWarning: lbfgs failed to converge (status=1):\n",
            "STOP: TOTAL NO. of ITERATIONS REACHED LIMIT.\n",
            "\n",
            "Increase the number of iterations (max_iter) or scale the data as shown in:\n",
            "    https://scikit-learn.org/stable/modules/preprocessing.html\n",
            "Please also refer to the documentation for alternative solver options:\n",
            "    https://scikit-learn.org/stable/modules/linear_model.html#logistic-regression\n",
            "  extra_warning_msg=_LOGISTIC_SOLVER_CONVERGENCE_MSG,\n"
          ]
        },
        {
          "metadata": {
            "tags": null
          },
          "name": "stdout",
          "output_type": "stream",
          "text": [
            "len: 50\n",
            "[426, 907, 116, 728, 79, 443, 949, 252, 231, 309, 626, 883, 313, 702, 129, 568, 10, 302, 5, 51, 689, 635, 256, 118, 366, 65, 770, 413, 663, 282, 890, 909, 177, 979, 502, 297, 444, 157, 333, 780, 665, 247, 290, 817, 587, 733, 0, 33, 507, 654]\n",
            "5Folds\n",
            "len: 50\n",
            "[426, 907, 116, 728, 79, 443, 949, 252, 231, 309, 626, 883, 313, 702, 129, 568, 10, 302, 5, 51, 689, 635, 256, 118, 366, 65, 770, 413, 663, 282, 890, 909, 177, 979, 502, 297, 444, 157, 333, 780, 665, 247, 290, 817, 587, 733, 0, 33, 507, 654]\n",
            "5Folds\n",
            "len: 50\n",
            "[426, 907, 116, 728, 79, 443, 949, 252, 231, 309, 626, 883, 313, 702, 129, 568, 10, 302, 5, 51, 689, 635, 256, 118, 366, 65, 770, 413, 663, 282, 890, 909, 177, 979, 502, 297, 444, 157, 333, 780, 665, 247, 290, 817, 587, 733, 0, 33, 507, 654]\n",
            "5Folds\n",
            "len: 50\n",
            "[426, 907, 116, 728, 79, 443, 949, 252, 231, 309, 626, 883, 313, 702, 129, 568, 10, 302, 5, 51, 689, 635, 256, 118, 366, 65, 770, 413, 663, 282, 890, 909, 177, 979, 502, 297, 444, 157, 333, 780, 665, 247, 290, 817, 587, 733, 0, 33, 507, 654]\n",
            "5Folds\n",
            "len: 50\n",
            "[426, 907, 116, 728, 79, 443, 949, 252, 231, 309, 626, 883, 313, 702, 129, 568, 10, 302, 5, 51, 689, 635, 256, 118, 366, 65, 770, 413, 663, 282, 890, 909, 177, 979, 502, 297, 444, 157, 333, 780, 665, 247, 290, 817, 587, 733, 0, 33, 507, 654]\n",
            "5Folds\n"
          ]
        },
        {
          "metadata": {
            "tags": null
          },
          "name": "stderr",
          "output_type": "stream",
          "text": [
            "/usr/local/lib/python3.7/dist-packages/sklearn/linear_model/_logistic.py:818: ConvergenceWarning: lbfgs failed to converge (status=1):\n",
            "STOP: TOTAL NO. of ITERATIONS REACHED LIMIT.\n",
            "\n",
            "Increase the number of iterations (max_iter) or scale the data as shown in:\n",
            "    https://scikit-learn.org/stable/modules/preprocessing.html\n",
            "Please also refer to the documentation for alternative solver options:\n",
            "    https://scikit-learn.org/stable/modules/linear_model.html#logistic-regression\n",
            "  extra_warning_msg=_LOGISTIC_SOLVER_CONVERGENCE_MSG,\n",
            "/usr/local/lib/python3.7/dist-packages/sklearn/linear_model/_logistic.py:818: ConvergenceWarning: lbfgs failed to converge (status=1):\n",
            "STOP: TOTAL NO. of ITERATIONS REACHED LIMIT.\n",
            "\n",
            "Increase the number of iterations (max_iter) or scale the data as shown in:\n",
            "    https://scikit-learn.org/stable/modules/preprocessing.html\n",
            "Please also refer to the documentation for alternative solver options:\n",
            "    https://scikit-learn.org/stable/modules/linear_model.html#logistic-regression\n",
            "  extra_warning_msg=_LOGISTIC_SOLVER_CONVERGENCE_MSG,\n",
            "/usr/local/lib/python3.7/dist-packages/sklearn/linear_model/_logistic.py:818: ConvergenceWarning: lbfgs failed to converge (status=1):\n",
            "STOP: TOTAL NO. of ITERATIONS REACHED LIMIT.\n",
            "\n",
            "Increase the number of iterations (max_iter) or scale the data as shown in:\n",
            "    https://scikit-learn.org/stable/modules/preprocessing.html\n",
            "Please also refer to the documentation for alternative solver options:\n",
            "    https://scikit-learn.org/stable/modules/linear_model.html#logistic-regression\n",
            "  extra_warning_msg=_LOGISTIC_SOLVER_CONVERGENCE_MSG,\n",
            "/usr/local/lib/python3.7/dist-packages/sklearn/linear_model/_logistic.py:818: ConvergenceWarning: lbfgs failed to converge (status=1):\n",
            "STOP: TOTAL NO. of ITERATIONS REACHED LIMIT.\n",
            "\n",
            "Increase the number of iterations (max_iter) or scale the data as shown in:\n",
            "    https://scikit-learn.org/stable/modules/preprocessing.html\n",
            "Please also refer to the documentation for alternative solver options:\n",
            "    https://scikit-learn.org/stable/modules/linear_model.html#logistic-regression\n",
            "  extra_warning_msg=_LOGISTIC_SOLVER_CONVERGENCE_MSG,\n",
            "/usr/local/lib/python3.7/dist-packages/sklearn/linear_model/_logistic.py:818: ConvergenceWarning: lbfgs failed to converge (status=1):\n",
            "STOP: TOTAL NO. of ITERATIONS REACHED LIMIT.\n",
            "\n",
            "Increase the number of iterations (max_iter) or scale the data as shown in:\n",
            "    https://scikit-learn.org/stable/modules/preprocessing.html\n",
            "Please also refer to the documentation for alternative solver options:\n",
            "    https://scikit-learn.org/stable/modules/linear_model.html#logistic-regression\n",
            "  extra_warning_msg=_LOGISTIC_SOLVER_CONVERGENCE_MSG,\n"
          ]
        },
        {
          "metadata": {
            "tags": null
          },
          "name": "stdout",
          "output_type": "stream",
          "text": [
            "len: 100\n",
            "[426, 907, 116, 728, 79, 443, 949, 252, 231, 309, 626, 883, 313, 702, 129, 568, 10, 302, 5, 51, 689, 635, 256, 118, 366, 65, 770, 413, 663, 282, 890, 909, 177, 979, 502, 297, 444, 157, 333, 780, 665, 247, 290, 817, 587, 733, 0, 33, 507, 654, 962, 45, 526, 240, 221, 661, 347, 855, 230, 372, 864, 67, 146, 442, 543, 90, 22, 460, 691, 774, 278, 917, 29, 427, 729, 475, 271, 704, 820, 198, 668, 624, 156, 902, 315, 565, 69, 182, 621, 227, 310, 92, 281, 461, 921, 721, 411, 713, 977, 318]\n",
            "5Folds\n",
            "len: 100\n",
            "[426, 907, 116, 728, 79, 443, 949, 252, 231, 309, 626, 883, 313, 702, 129, 568, 10, 302, 5, 51, 689, 635, 256, 118, 366, 65, 770, 413, 663, 282, 890, 909, 177, 979, 502, 297, 444, 157, 333, 780, 665, 247, 290, 817, 587, 733, 0, 33, 507, 654, 962, 45, 526, 240, 221, 661, 347, 855, 230, 372, 864, 67, 146, 442, 543, 90, 22, 460, 691, 774, 278, 917, 29, 427, 729, 475, 271, 704, 820, 198, 668, 624, 156, 902, 315, 565, 69, 182, 621, 227, 310, 92, 281, 461, 921, 721, 411, 713, 977, 318]\n",
            "5Folds\n",
            "len: 100\n",
            "[426, 907, 116, 728, 79, 443, 949, 252, 231, 309, 626, 883, 313, 702, 129, 568, 10, 302, 5, 51, 689, 635, 256, 118, 366, 65, 770, 413, 663, 282, 890, 909, 177, 979, 502, 297, 444, 157, 333, 780, 665, 247, 290, 817, 587, 733, 0, 33, 507, 654, 962, 45, 526, 240, 221, 661, 347, 855, 230, 372, 864, 67, 146, 442, 543, 90, 22, 460, 691, 774, 278, 917, 29, 427, 729, 475, 271, 704, 820, 198, 668, 624, 156, 902, 315, 565, 69, 182, 621, 227, 310, 92, 281, 461, 921, 721, 411, 713, 977, 318]\n",
            "5Folds\n",
            "len: 100\n",
            "[426, 907, 116, 728, 79, 443, 949, 252, 231, 309, 626, 883, 313, 702, 129, 568, 10, 302, 5, 51, 689, 635, 256, 118, 366, 65, 770, 413, 663, 282, 890, 909, 177, 979, 502, 297, 444, 157, 333, 780, 665, 247, 290, 817, 587, 733, 0, 33, 507, 654, 962, 45, 526, 240, 221, 661, 347, 855, 230, 372, 864, 67, 146, 442, 543, 90, 22, 460, 691, 774, 278, 917, 29, 427, 729, 475, 271, 704, 820, 198, 668, 624, 156, 902, 315, 565, 69, 182, 621, 227, 310, 92, 281, 461, 921, 721, 411, 713, 977, 318]\n",
            "5Folds\n",
            "len: 100\n",
            "[426, 907, 116, 728, 79, 443, 949, 252, 231, 309, 626, 883, 313, 702, 129, 568, 10, 302, 5, 51, 689, 635, 256, 118, 366, 65, 770, 413, 663, 282, 890, 909, 177, 979, 502, 297, 444, 157, 333, 780, 665, 247, 290, 817, 587, 733, 0, 33, 507, 654, 962, 45, 526, 240, 221, 661, 347, 855, 230, 372, 864, 67, 146, 442, 543, 90, 22, 460, 691, 774, 278, 917, 29, 427, 729, 475, 271, 704, 820, 198, 668, 624, 156, 902, 315, 565, 69, 182, 621, 227, 310, 92, 281, 461, 921, 721, 411, 713, 977, 318]\n",
            "5Folds\n"
          ]
        },
        {
          "metadata": {
            "tags": null
          },
          "name": "stderr",
          "output_type": "stream",
          "text": [
            "/usr/local/lib/python3.7/dist-packages/sklearn/linear_model/_logistic.py:818: ConvergenceWarning: lbfgs failed to converge (status=1):\n",
            "STOP: TOTAL NO. of ITERATIONS REACHED LIMIT.\n",
            "\n",
            "Increase the number of iterations (max_iter) or scale the data as shown in:\n",
            "    https://scikit-learn.org/stable/modules/preprocessing.html\n",
            "Please also refer to the documentation for alternative solver options:\n",
            "    https://scikit-learn.org/stable/modules/linear_model.html#logistic-regression\n",
            "  extra_warning_msg=_LOGISTIC_SOLVER_CONVERGENCE_MSG,\n",
            "/usr/local/lib/python3.7/dist-packages/sklearn/linear_model/_logistic.py:818: ConvergenceWarning: lbfgs failed to converge (status=1):\n",
            "STOP: TOTAL NO. of ITERATIONS REACHED LIMIT.\n",
            "\n",
            "Increase the number of iterations (max_iter) or scale the data as shown in:\n",
            "    https://scikit-learn.org/stable/modules/preprocessing.html\n",
            "Please also refer to the documentation for alternative solver options:\n",
            "    https://scikit-learn.org/stable/modules/linear_model.html#logistic-regression\n",
            "  extra_warning_msg=_LOGISTIC_SOLVER_CONVERGENCE_MSG,\n",
            "/usr/local/lib/python3.7/dist-packages/sklearn/linear_model/_logistic.py:818: ConvergenceWarning: lbfgs failed to converge (status=1):\n",
            "STOP: TOTAL NO. of ITERATIONS REACHED LIMIT.\n",
            "\n",
            "Increase the number of iterations (max_iter) or scale the data as shown in:\n",
            "    https://scikit-learn.org/stable/modules/preprocessing.html\n",
            "Please also refer to the documentation for alternative solver options:\n",
            "    https://scikit-learn.org/stable/modules/linear_model.html#logistic-regression\n",
            "  extra_warning_msg=_LOGISTIC_SOLVER_CONVERGENCE_MSG,\n",
            "/usr/local/lib/python3.7/dist-packages/sklearn/linear_model/_logistic.py:818: ConvergenceWarning: lbfgs failed to converge (status=1):\n",
            "STOP: TOTAL NO. of ITERATIONS REACHED LIMIT.\n",
            "\n",
            "Increase the number of iterations (max_iter) or scale the data as shown in:\n",
            "    https://scikit-learn.org/stable/modules/preprocessing.html\n",
            "Please also refer to the documentation for alternative solver options:\n",
            "    https://scikit-learn.org/stable/modules/linear_model.html#logistic-regression\n",
            "  extra_warning_msg=_LOGISTIC_SOLVER_CONVERGENCE_MSG,\n",
            "/usr/local/lib/python3.7/dist-packages/sklearn/linear_model/_logistic.py:818: ConvergenceWarning: lbfgs failed to converge (status=1):\n",
            "STOP: TOTAL NO. of ITERATIONS REACHED LIMIT.\n",
            "\n",
            "Increase the number of iterations (max_iter) or scale the data as shown in:\n",
            "    https://scikit-learn.org/stable/modules/preprocessing.html\n",
            "Please also refer to the documentation for alternative solver options:\n",
            "    https://scikit-learn.org/stable/modules/linear_model.html#logistic-regression\n",
            "  extra_warning_msg=_LOGISTIC_SOLVER_CONVERGENCE_MSG,\n"
          ]
        },
        {
          "metadata": {
            "tags": null
          },
          "name": "stdout",
          "output_type": "stream",
          "text": [
            "-----------------------------------------\n",
            "3\n",
            "9182\n",
            "len: 1\n",
            "[5043]\n",
            "10Folds\n"
          ]
        },
        {
          "metadata": {
            "tags": null
          },
          "name": "stderr",
          "output_type": "stream",
          "text": [
            "/usr/local/lib/python3.7/dist-packages/sklearn/model_selection/_split.py:680: UserWarning: The least populated class in y has only 6 members, which is less than n_splits=10.\n",
            "  UserWarning,\n"
          ]
        },
        {
          "metadata": {
            "tags": null
          },
          "name": "stdout",
          "output_type": "stream",
          "text": [
            "len: 1\n",
            "[5043]\n",
            "10Folds\n"
          ]
        },
        {
          "metadata": {
            "tags": null
          },
          "name": "stderr",
          "output_type": "stream",
          "text": [
            "/usr/local/lib/python3.7/dist-packages/sklearn/model_selection/_split.py:680: UserWarning: The least populated class in y has only 6 members, which is less than n_splits=10.\n",
            "  UserWarning,\n"
          ]
        },
        {
          "metadata": {
            "tags": null
          },
          "name": "stdout",
          "output_type": "stream",
          "text": [
            "len: 1\n",
            "[5043]\n",
            "10Folds\n"
          ]
        },
        {
          "metadata": {
            "tags": null
          },
          "name": "stderr",
          "output_type": "stream",
          "text": [
            "/usr/local/lib/python3.7/dist-packages/sklearn/model_selection/_split.py:680: UserWarning: The least populated class in y has only 6 members, which is less than n_splits=10.\n",
            "  UserWarning,\n"
          ]
        },
        {
          "metadata": {
            "tags": null
          },
          "name": "stdout",
          "output_type": "stream",
          "text": [
            "len: 1\n",
            "[5043]\n",
            "10Folds\n"
          ]
        },
        {
          "metadata": {
            "tags": null
          },
          "name": "stderr",
          "output_type": "stream",
          "text": [
            "/usr/local/lib/python3.7/dist-packages/sklearn/model_selection/_split.py:680: UserWarning: The least populated class in y has only 6 members, which is less than n_splits=10.\n",
            "  UserWarning,\n"
          ]
        },
        {
          "metadata": {
            "tags": null
          },
          "name": "stdout",
          "output_type": "stream",
          "text": [
            "len: 1\n",
            "[5043]\n",
            "10Folds\n"
          ]
        },
        {
          "metadata": {
            "tags": null
          },
          "name": "stderr",
          "output_type": "stream",
          "text": [
            "/usr/local/lib/python3.7/dist-packages/sklearn/model_selection/_split.py:680: UserWarning: The least populated class in y has only 6 members, which is less than n_splits=10.\n",
            "  UserWarning,\n"
          ]
        },
        {
          "metadata": {
            "tags": null
          },
          "name": "stdout",
          "output_type": "stream",
          "text": [
            "len: 2\n",
            "[5043, 7701]\n",
            "10Folds\n"
          ]
        },
        {
          "metadata": {
            "tags": null
          },
          "name": "stderr",
          "output_type": "stream",
          "text": [
            "/usr/local/lib/python3.7/dist-packages/sklearn/model_selection/_split.py:680: UserWarning: The least populated class in y has only 6 members, which is less than n_splits=10.\n",
            "  UserWarning,\n"
          ]
        },
        {
          "metadata": {
            "tags": null
          },
          "name": "stdout",
          "output_type": "stream",
          "text": [
            "len: 2\n",
            "[5043, 7701]\n",
            "10Folds\n"
          ]
        },
        {
          "metadata": {
            "tags": null
          },
          "name": "stderr",
          "output_type": "stream",
          "text": [
            "/usr/local/lib/python3.7/dist-packages/sklearn/model_selection/_split.py:680: UserWarning: The least populated class in y has only 6 members, which is less than n_splits=10.\n",
            "  UserWarning,\n"
          ]
        },
        {
          "metadata": {
            "tags": null
          },
          "name": "stdout",
          "output_type": "stream",
          "text": [
            "len: 2\n",
            "[5043, 7701]\n",
            "10Folds\n"
          ]
        },
        {
          "metadata": {
            "tags": null
          },
          "name": "stderr",
          "output_type": "stream",
          "text": [
            "/usr/local/lib/python3.7/dist-packages/sklearn/model_selection/_split.py:680: UserWarning: The least populated class in y has only 6 members, which is less than n_splits=10.\n",
            "  UserWarning,\n"
          ]
        },
        {
          "metadata": {
            "tags": null
          },
          "name": "stdout",
          "output_type": "stream",
          "text": [
            "len: 2\n",
            "[5043, 7701]\n",
            "10Folds\n"
          ]
        },
        {
          "metadata": {
            "tags": null
          },
          "name": "stderr",
          "output_type": "stream",
          "text": [
            "/usr/local/lib/python3.7/dist-packages/sklearn/model_selection/_split.py:680: UserWarning: The least populated class in y has only 6 members, which is less than n_splits=10.\n",
            "  UserWarning,\n"
          ]
        },
        {
          "metadata": {
            "tags": null
          },
          "name": "stdout",
          "output_type": "stream",
          "text": [
            "len: 2\n",
            "[5043, 7701]\n",
            "10Folds\n"
          ]
        },
        {
          "metadata": {
            "tags": null
          },
          "name": "stderr",
          "output_type": "stream",
          "text": [
            "/usr/local/lib/python3.7/dist-packages/sklearn/model_selection/_split.py:680: UserWarning: The least populated class in y has only 6 members, which is less than n_splits=10.\n",
            "  UserWarning,\n",
            "/usr/local/lib/python3.7/dist-packages/sklearn/linear_model/_logistic.py:818: ConvergenceWarning: lbfgs failed to converge (status=1):\n",
            "STOP: TOTAL NO. of ITERATIONS REACHED LIMIT.\n",
            "\n",
            "Increase the number of iterations (max_iter) or scale the data as shown in:\n",
            "    https://scikit-learn.org/stable/modules/preprocessing.html\n",
            "Please also refer to the documentation for alternative solver options:\n",
            "    https://scikit-learn.org/stable/modules/linear_model.html#logistic-regression\n",
            "  extra_warning_msg=_LOGISTIC_SOLVER_CONVERGENCE_MSG,\n",
            "/usr/local/lib/python3.7/dist-packages/sklearn/linear_model/_logistic.py:818: ConvergenceWarning: lbfgs failed to converge (status=1):\n",
            "STOP: TOTAL NO. of ITERATIONS REACHED LIMIT.\n",
            "\n",
            "Increase the number of iterations (max_iter) or scale the data as shown in:\n",
            "    https://scikit-learn.org/stable/modules/preprocessing.html\n",
            "Please also refer to the documentation for alternative solver options:\n",
            "    https://scikit-learn.org/stable/modules/linear_model.html#logistic-regression\n",
            "  extra_warning_msg=_LOGISTIC_SOLVER_CONVERGENCE_MSG,\n",
            "/usr/local/lib/python3.7/dist-packages/sklearn/linear_model/_logistic.py:818: ConvergenceWarning: lbfgs failed to converge (status=1):\n",
            "STOP: TOTAL NO. of ITERATIONS REACHED LIMIT.\n",
            "\n",
            "Increase the number of iterations (max_iter) or scale the data as shown in:\n",
            "    https://scikit-learn.org/stable/modules/preprocessing.html\n",
            "Please also refer to the documentation for alternative solver options:\n",
            "    https://scikit-learn.org/stable/modules/linear_model.html#logistic-regression\n",
            "  extra_warning_msg=_LOGISTIC_SOLVER_CONVERGENCE_MSG,\n",
            "/usr/local/lib/python3.7/dist-packages/sklearn/linear_model/_logistic.py:818: ConvergenceWarning: lbfgs failed to converge (status=1):\n",
            "STOP: TOTAL NO. of ITERATIONS REACHED LIMIT.\n",
            "\n",
            "Increase the number of iterations (max_iter) or scale the data as shown in:\n",
            "    https://scikit-learn.org/stable/modules/preprocessing.html\n",
            "Please also refer to the documentation for alternative solver options:\n",
            "    https://scikit-learn.org/stable/modules/linear_model.html#logistic-regression\n",
            "  extra_warning_msg=_LOGISTIC_SOLVER_CONVERGENCE_MSG,\n",
            "/usr/local/lib/python3.7/dist-packages/sklearn/linear_model/_logistic.py:818: ConvergenceWarning: lbfgs failed to converge (status=1):\n",
            "STOP: TOTAL NO. of ITERATIONS REACHED LIMIT.\n",
            "\n",
            "Increase the number of iterations (max_iter) or scale the data as shown in:\n",
            "    https://scikit-learn.org/stable/modules/preprocessing.html\n",
            "Please also refer to the documentation for alternative solver options:\n",
            "    https://scikit-learn.org/stable/modules/linear_model.html#logistic-regression\n",
            "  extra_warning_msg=_LOGISTIC_SOLVER_CONVERGENCE_MSG,\n",
            "/usr/local/lib/python3.7/dist-packages/sklearn/linear_model/_logistic.py:818: ConvergenceWarning: lbfgs failed to converge (status=1):\n",
            "STOP: TOTAL NO. of ITERATIONS REACHED LIMIT.\n",
            "\n",
            "Increase the number of iterations (max_iter) or scale the data as shown in:\n",
            "    https://scikit-learn.org/stable/modules/preprocessing.html\n",
            "Please also refer to the documentation for alternative solver options:\n",
            "    https://scikit-learn.org/stable/modules/linear_model.html#logistic-regression\n",
            "  extra_warning_msg=_LOGISTIC_SOLVER_CONVERGENCE_MSG,\n"
          ]
        },
        {
          "metadata": {
            "tags": null
          },
          "name": "stdout",
          "output_type": "stream",
          "text": [
            "len: 3\n",
            "[5043, 7701, 4628]\n",
            "10Folds\n"
          ]
        },
        {
          "metadata": {
            "tags": null
          },
          "name": "stderr",
          "output_type": "stream",
          "text": [
            "/usr/local/lib/python3.7/dist-packages/sklearn/model_selection/_split.py:680: UserWarning: The least populated class in y has only 6 members, which is less than n_splits=10.\n",
            "  UserWarning,\n"
          ]
        },
        {
          "metadata": {
            "tags": null
          },
          "name": "stdout",
          "output_type": "stream",
          "text": [
            "len: 3\n",
            "[5043, 7701, 4628]\n",
            "10Folds\n"
          ]
        },
        {
          "metadata": {
            "tags": null
          },
          "name": "stderr",
          "output_type": "stream",
          "text": [
            "/usr/local/lib/python3.7/dist-packages/sklearn/model_selection/_split.py:680: UserWarning: The least populated class in y has only 6 members, which is less than n_splits=10.\n",
            "  UserWarning,\n"
          ]
        },
        {
          "metadata": {
            "tags": null
          },
          "name": "stdout",
          "output_type": "stream",
          "text": [
            "len: 3\n",
            "[5043, 7701, 4628]\n",
            "10Folds\n"
          ]
        },
        {
          "metadata": {
            "tags": null
          },
          "name": "stderr",
          "output_type": "stream",
          "text": [
            "/usr/local/lib/python3.7/dist-packages/sklearn/model_selection/_split.py:680: UserWarning: The least populated class in y has only 6 members, which is less than n_splits=10.\n",
            "  UserWarning,\n"
          ]
        },
        {
          "metadata": {
            "tags": null
          },
          "name": "stdout",
          "output_type": "stream",
          "text": [
            "len: 3\n",
            "[5043, 7701, 4628]\n",
            "10Folds\n"
          ]
        },
        {
          "metadata": {
            "tags": null
          },
          "name": "stderr",
          "output_type": "stream",
          "text": [
            "/usr/local/lib/python3.7/dist-packages/sklearn/model_selection/_split.py:680: UserWarning: The least populated class in y has only 6 members, which is less than n_splits=10.\n",
            "  UserWarning,\n"
          ]
        },
        {
          "metadata": {
            "tags": null
          },
          "name": "stdout",
          "output_type": "stream",
          "text": [
            "len: 3\n",
            "[5043, 7701, 4628]\n",
            "10Folds\n"
          ]
        },
        {
          "metadata": {
            "tags": null
          },
          "name": "stderr",
          "output_type": "stream",
          "text": [
            "/usr/local/lib/python3.7/dist-packages/sklearn/model_selection/_split.py:680: UserWarning: The least populated class in y has only 6 members, which is less than n_splits=10.\n",
            "  UserWarning,\n",
            "/usr/local/lib/python3.7/dist-packages/sklearn/linear_model/_logistic.py:818: ConvergenceWarning: lbfgs failed to converge (status=1):\n",
            "STOP: TOTAL NO. of ITERATIONS REACHED LIMIT.\n",
            "\n",
            "Increase the number of iterations (max_iter) or scale the data as shown in:\n",
            "    https://scikit-learn.org/stable/modules/preprocessing.html\n",
            "Please also refer to the documentation for alternative solver options:\n",
            "    https://scikit-learn.org/stable/modules/linear_model.html#logistic-regression\n",
            "  extra_warning_msg=_LOGISTIC_SOLVER_CONVERGENCE_MSG,\n",
            "/usr/local/lib/python3.7/dist-packages/sklearn/linear_model/_logistic.py:818: ConvergenceWarning: lbfgs failed to converge (status=1):\n",
            "STOP: TOTAL NO. of ITERATIONS REACHED LIMIT.\n",
            "\n",
            "Increase the number of iterations (max_iter) or scale the data as shown in:\n",
            "    https://scikit-learn.org/stable/modules/preprocessing.html\n",
            "Please also refer to the documentation for alternative solver options:\n",
            "    https://scikit-learn.org/stable/modules/linear_model.html#logistic-regression\n",
            "  extra_warning_msg=_LOGISTIC_SOLVER_CONVERGENCE_MSG,\n",
            "/usr/local/lib/python3.7/dist-packages/sklearn/linear_model/_logistic.py:818: ConvergenceWarning: lbfgs failed to converge (status=1):\n",
            "STOP: TOTAL NO. of ITERATIONS REACHED LIMIT.\n",
            "\n",
            "Increase the number of iterations (max_iter) or scale the data as shown in:\n",
            "    https://scikit-learn.org/stable/modules/preprocessing.html\n",
            "Please also refer to the documentation for alternative solver options:\n",
            "    https://scikit-learn.org/stable/modules/linear_model.html#logistic-regression\n",
            "  extra_warning_msg=_LOGISTIC_SOLVER_CONVERGENCE_MSG,\n",
            "/usr/local/lib/python3.7/dist-packages/sklearn/linear_model/_logistic.py:818: ConvergenceWarning: lbfgs failed to converge (status=1):\n",
            "STOP: TOTAL NO. of ITERATIONS REACHED LIMIT.\n",
            "\n",
            "Increase the number of iterations (max_iter) or scale the data as shown in:\n",
            "    https://scikit-learn.org/stable/modules/preprocessing.html\n",
            "Please also refer to the documentation for alternative solver options:\n",
            "    https://scikit-learn.org/stable/modules/linear_model.html#logistic-regression\n",
            "  extra_warning_msg=_LOGISTIC_SOLVER_CONVERGENCE_MSG,\n",
            "/usr/local/lib/python3.7/dist-packages/sklearn/linear_model/_logistic.py:818: ConvergenceWarning: lbfgs failed to converge (status=1):\n",
            "STOP: TOTAL NO. of ITERATIONS REACHED LIMIT.\n",
            "\n",
            "Increase the number of iterations (max_iter) or scale the data as shown in:\n",
            "    https://scikit-learn.org/stable/modules/preprocessing.html\n",
            "Please also refer to the documentation for alternative solver options:\n",
            "    https://scikit-learn.org/stable/modules/linear_model.html#logistic-regression\n",
            "  extra_warning_msg=_LOGISTIC_SOLVER_CONVERGENCE_MSG,\n",
            "/usr/local/lib/python3.7/dist-packages/sklearn/linear_model/_logistic.py:818: ConvergenceWarning: lbfgs failed to converge (status=1):\n",
            "STOP: TOTAL NO. of ITERATIONS REACHED LIMIT.\n",
            "\n",
            "Increase the number of iterations (max_iter) or scale the data as shown in:\n",
            "    https://scikit-learn.org/stable/modules/preprocessing.html\n",
            "Please also refer to the documentation for alternative solver options:\n",
            "    https://scikit-learn.org/stable/modules/linear_model.html#logistic-regression\n",
            "  extra_warning_msg=_LOGISTIC_SOLVER_CONVERGENCE_MSG,\n",
            "/usr/local/lib/python3.7/dist-packages/sklearn/linear_model/_logistic.py:818: ConvergenceWarning: lbfgs failed to converge (status=1):\n",
            "STOP: TOTAL NO. of ITERATIONS REACHED LIMIT.\n",
            "\n",
            "Increase the number of iterations (max_iter) or scale the data as shown in:\n",
            "    https://scikit-learn.org/stable/modules/preprocessing.html\n",
            "Please also refer to the documentation for alternative solver options:\n",
            "    https://scikit-learn.org/stable/modules/linear_model.html#logistic-regression\n",
            "  extra_warning_msg=_LOGISTIC_SOLVER_CONVERGENCE_MSG,\n",
            "/usr/local/lib/python3.7/dist-packages/sklearn/linear_model/_logistic.py:818: ConvergenceWarning: lbfgs failed to converge (status=1):\n",
            "STOP: TOTAL NO. of ITERATIONS REACHED LIMIT.\n",
            "\n",
            "Increase the number of iterations (max_iter) or scale the data as shown in:\n",
            "    https://scikit-learn.org/stable/modules/preprocessing.html\n",
            "Please also refer to the documentation for alternative solver options:\n",
            "    https://scikit-learn.org/stable/modules/linear_model.html#logistic-regression\n",
            "  extra_warning_msg=_LOGISTIC_SOLVER_CONVERGENCE_MSG,\n",
            "/usr/local/lib/python3.7/dist-packages/sklearn/linear_model/_logistic.py:818: ConvergenceWarning: lbfgs failed to converge (status=1):\n",
            "STOP: TOTAL NO. of ITERATIONS REACHED LIMIT.\n",
            "\n",
            "Increase the number of iterations (max_iter) or scale the data as shown in:\n",
            "    https://scikit-learn.org/stable/modules/preprocessing.html\n",
            "Please also refer to the documentation for alternative solver options:\n",
            "    https://scikit-learn.org/stable/modules/linear_model.html#logistic-regression\n",
            "  extra_warning_msg=_LOGISTIC_SOLVER_CONVERGENCE_MSG,\n",
            "/usr/local/lib/python3.7/dist-packages/sklearn/linear_model/_logistic.py:818: ConvergenceWarning: lbfgs failed to converge (status=1):\n",
            "STOP: TOTAL NO. of ITERATIONS REACHED LIMIT.\n",
            "\n",
            "Increase the number of iterations (max_iter) or scale the data as shown in:\n",
            "    https://scikit-learn.org/stable/modules/preprocessing.html\n",
            "Please also refer to the documentation for alternative solver options:\n",
            "    https://scikit-learn.org/stable/modules/linear_model.html#logistic-regression\n",
            "  extra_warning_msg=_LOGISTIC_SOLVER_CONVERGENCE_MSG,\n"
          ]
        },
        {
          "metadata": {
            "tags": null
          },
          "name": "stdout",
          "output_type": "stream",
          "text": [
            "len: 4\n",
            "[5043, 7701, 4628, 5443]\n",
            "10Folds\n"
          ]
        },
        {
          "metadata": {
            "tags": null
          },
          "name": "stderr",
          "output_type": "stream",
          "text": [
            "/usr/local/lib/python3.7/dist-packages/sklearn/model_selection/_split.py:680: UserWarning: The least populated class in y has only 6 members, which is less than n_splits=10.\n",
            "  UserWarning,\n"
          ]
        },
        {
          "metadata": {
            "tags": null
          },
          "name": "stdout",
          "output_type": "stream",
          "text": [
            "len: 4\n",
            "[5043, 7701, 4628, 5443]\n",
            "10Folds\n"
          ]
        },
        {
          "metadata": {
            "tags": null
          },
          "name": "stderr",
          "output_type": "stream",
          "text": [
            "/usr/local/lib/python3.7/dist-packages/sklearn/model_selection/_split.py:680: UserWarning: The least populated class in y has only 6 members, which is less than n_splits=10.\n",
            "  UserWarning,\n"
          ]
        },
        {
          "metadata": {
            "tags": null
          },
          "name": "stdout",
          "output_type": "stream",
          "text": [
            "len: 4\n",
            "[5043, 7701, 4628, 5443]\n",
            "10Folds\n"
          ]
        },
        {
          "metadata": {
            "tags": null
          },
          "name": "stderr",
          "output_type": "stream",
          "text": [
            "/usr/local/lib/python3.7/dist-packages/sklearn/model_selection/_split.py:680: UserWarning: The least populated class in y has only 6 members, which is less than n_splits=10.\n",
            "  UserWarning,\n"
          ]
        },
        {
          "metadata": {
            "tags": null
          },
          "name": "stdout",
          "output_type": "stream",
          "text": [
            "len: 4\n",
            "[5043, 7701, 4628, 5443]\n",
            "10Folds\n"
          ]
        },
        {
          "metadata": {
            "tags": null
          },
          "name": "stderr",
          "output_type": "stream",
          "text": [
            "/usr/local/lib/python3.7/dist-packages/sklearn/model_selection/_split.py:680: UserWarning: The least populated class in y has only 6 members, which is less than n_splits=10.\n",
            "  UserWarning,\n"
          ]
        },
        {
          "metadata": {
            "tags": null
          },
          "name": "stdout",
          "output_type": "stream",
          "text": [
            "len: 4\n",
            "[5043, 7701, 4628, 5443]\n",
            "10Folds\n"
          ]
        },
        {
          "metadata": {
            "tags": null
          },
          "name": "stderr",
          "output_type": "stream",
          "text": [
            "/usr/local/lib/python3.7/dist-packages/sklearn/model_selection/_split.py:680: UserWarning: The least populated class in y has only 6 members, which is less than n_splits=10.\n",
            "  UserWarning,\n",
            "/usr/local/lib/python3.7/dist-packages/sklearn/linear_model/_logistic.py:818: ConvergenceWarning: lbfgs failed to converge (status=1):\n",
            "STOP: TOTAL NO. of ITERATIONS REACHED LIMIT.\n",
            "\n",
            "Increase the number of iterations (max_iter) or scale the data as shown in:\n",
            "    https://scikit-learn.org/stable/modules/preprocessing.html\n",
            "Please also refer to the documentation for alternative solver options:\n",
            "    https://scikit-learn.org/stable/modules/linear_model.html#logistic-regression\n",
            "  extra_warning_msg=_LOGISTIC_SOLVER_CONVERGENCE_MSG,\n",
            "/usr/local/lib/python3.7/dist-packages/sklearn/linear_model/_logistic.py:818: ConvergenceWarning: lbfgs failed to converge (status=1):\n",
            "STOP: TOTAL NO. of ITERATIONS REACHED LIMIT.\n",
            "\n",
            "Increase the number of iterations (max_iter) or scale the data as shown in:\n",
            "    https://scikit-learn.org/stable/modules/preprocessing.html\n",
            "Please also refer to the documentation for alternative solver options:\n",
            "    https://scikit-learn.org/stable/modules/linear_model.html#logistic-regression\n",
            "  extra_warning_msg=_LOGISTIC_SOLVER_CONVERGENCE_MSG,\n",
            "/usr/local/lib/python3.7/dist-packages/sklearn/linear_model/_logistic.py:818: ConvergenceWarning: lbfgs failed to converge (status=1):\n",
            "STOP: TOTAL NO. of ITERATIONS REACHED LIMIT.\n",
            "\n",
            "Increase the number of iterations (max_iter) or scale the data as shown in:\n",
            "    https://scikit-learn.org/stable/modules/preprocessing.html\n",
            "Please also refer to the documentation for alternative solver options:\n",
            "    https://scikit-learn.org/stable/modules/linear_model.html#logistic-regression\n",
            "  extra_warning_msg=_LOGISTIC_SOLVER_CONVERGENCE_MSG,\n",
            "/usr/local/lib/python3.7/dist-packages/sklearn/linear_model/_logistic.py:818: ConvergenceWarning: lbfgs failed to converge (status=1):\n",
            "STOP: TOTAL NO. of ITERATIONS REACHED LIMIT.\n",
            "\n",
            "Increase the number of iterations (max_iter) or scale the data as shown in:\n",
            "    https://scikit-learn.org/stable/modules/preprocessing.html\n",
            "Please also refer to the documentation for alternative solver options:\n",
            "    https://scikit-learn.org/stable/modules/linear_model.html#logistic-regression\n",
            "  extra_warning_msg=_LOGISTIC_SOLVER_CONVERGENCE_MSG,\n",
            "/usr/local/lib/python3.7/dist-packages/sklearn/linear_model/_logistic.py:818: ConvergenceWarning: lbfgs failed to converge (status=1):\n",
            "STOP: TOTAL NO. of ITERATIONS REACHED LIMIT.\n",
            "\n",
            "Increase the number of iterations (max_iter) or scale the data as shown in:\n",
            "    https://scikit-learn.org/stable/modules/preprocessing.html\n",
            "Please also refer to the documentation for alternative solver options:\n",
            "    https://scikit-learn.org/stable/modules/linear_model.html#logistic-regression\n",
            "  extra_warning_msg=_LOGISTIC_SOLVER_CONVERGENCE_MSG,\n",
            "/usr/local/lib/python3.7/dist-packages/sklearn/linear_model/_logistic.py:818: ConvergenceWarning: lbfgs failed to converge (status=1):\n",
            "STOP: TOTAL NO. of ITERATIONS REACHED LIMIT.\n",
            "\n",
            "Increase the number of iterations (max_iter) or scale the data as shown in:\n",
            "    https://scikit-learn.org/stable/modules/preprocessing.html\n",
            "Please also refer to the documentation for alternative solver options:\n",
            "    https://scikit-learn.org/stable/modules/linear_model.html#logistic-regression\n",
            "  extra_warning_msg=_LOGISTIC_SOLVER_CONVERGENCE_MSG,\n",
            "/usr/local/lib/python3.7/dist-packages/sklearn/linear_model/_logistic.py:818: ConvergenceWarning: lbfgs failed to converge (status=1):\n",
            "STOP: TOTAL NO. of ITERATIONS REACHED LIMIT.\n",
            "\n",
            "Increase the number of iterations (max_iter) or scale the data as shown in:\n",
            "    https://scikit-learn.org/stable/modules/preprocessing.html\n",
            "Please also refer to the documentation for alternative solver options:\n",
            "    https://scikit-learn.org/stable/modules/linear_model.html#logistic-regression\n",
            "  extra_warning_msg=_LOGISTIC_SOLVER_CONVERGENCE_MSG,\n",
            "/usr/local/lib/python3.7/dist-packages/sklearn/linear_model/_logistic.py:818: ConvergenceWarning: lbfgs failed to converge (status=1):\n",
            "STOP: TOTAL NO. of ITERATIONS REACHED LIMIT.\n",
            "\n",
            "Increase the number of iterations (max_iter) or scale the data as shown in:\n",
            "    https://scikit-learn.org/stable/modules/preprocessing.html\n",
            "Please also refer to the documentation for alternative solver options:\n",
            "    https://scikit-learn.org/stable/modules/linear_model.html#logistic-regression\n",
            "  extra_warning_msg=_LOGISTIC_SOLVER_CONVERGENCE_MSG,\n",
            "/usr/local/lib/python3.7/dist-packages/sklearn/linear_model/_logistic.py:818: ConvergenceWarning: lbfgs failed to converge (status=1):\n",
            "STOP: TOTAL NO. of ITERATIONS REACHED LIMIT.\n",
            "\n",
            "Increase the number of iterations (max_iter) or scale the data as shown in:\n",
            "    https://scikit-learn.org/stable/modules/preprocessing.html\n",
            "Please also refer to the documentation for alternative solver options:\n",
            "    https://scikit-learn.org/stable/modules/linear_model.html#logistic-regression\n",
            "  extra_warning_msg=_LOGISTIC_SOLVER_CONVERGENCE_MSG,\n",
            "/usr/local/lib/python3.7/dist-packages/sklearn/linear_model/_logistic.py:818: ConvergenceWarning: lbfgs failed to converge (status=1):\n",
            "STOP: TOTAL NO. of ITERATIONS REACHED LIMIT.\n",
            "\n",
            "Increase the number of iterations (max_iter) or scale the data as shown in:\n",
            "    https://scikit-learn.org/stable/modules/preprocessing.html\n",
            "Please also refer to the documentation for alternative solver options:\n",
            "    https://scikit-learn.org/stable/modules/linear_model.html#logistic-regression\n",
            "  extra_warning_msg=_LOGISTIC_SOLVER_CONVERGENCE_MSG,\n"
          ]
        },
        {
          "metadata": {
            "tags": null
          },
          "name": "stdout",
          "output_type": "stream",
          "text": [
            "len: 5\n",
            "[5043, 7701, 4628, 5443, 6885]\n",
            "10Folds\n"
          ]
        },
        {
          "metadata": {
            "tags": null
          },
          "name": "stderr",
          "output_type": "stream",
          "text": [
            "/usr/local/lib/python3.7/dist-packages/sklearn/model_selection/_split.py:680: UserWarning: The least populated class in y has only 6 members, which is less than n_splits=10.\n",
            "  UserWarning,\n"
          ]
        },
        {
          "metadata": {
            "tags": null
          },
          "name": "stdout",
          "output_type": "stream",
          "text": [
            "len: 5\n",
            "[5043, 7701, 4628, 5443, 6885]\n",
            "10Folds\n"
          ]
        },
        {
          "metadata": {
            "tags": null
          },
          "name": "stderr",
          "output_type": "stream",
          "text": [
            "/usr/local/lib/python3.7/dist-packages/sklearn/model_selection/_split.py:680: UserWarning: The least populated class in y has only 6 members, which is less than n_splits=10.\n",
            "  UserWarning,\n"
          ]
        },
        {
          "metadata": {
            "tags": null
          },
          "name": "stdout",
          "output_type": "stream",
          "text": [
            "len: 5\n",
            "[5043, 7701, 4628, 5443, 6885]\n",
            "10Folds\n"
          ]
        },
        {
          "metadata": {
            "tags": null
          },
          "name": "stderr",
          "output_type": "stream",
          "text": [
            "/usr/local/lib/python3.7/dist-packages/sklearn/model_selection/_split.py:680: UserWarning: The least populated class in y has only 6 members, which is less than n_splits=10.\n",
            "  UserWarning,\n"
          ]
        },
        {
          "metadata": {
            "tags": null
          },
          "name": "stdout",
          "output_type": "stream",
          "text": [
            "len: 5\n",
            "[5043, 7701, 4628, 5443, 6885]\n",
            "10Folds\n"
          ]
        },
        {
          "metadata": {
            "tags": null
          },
          "name": "stderr",
          "output_type": "stream",
          "text": [
            "/usr/local/lib/python3.7/dist-packages/sklearn/model_selection/_split.py:680: UserWarning: The least populated class in y has only 6 members, which is less than n_splits=10.\n",
            "  UserWarning,\n"
          ]
        },
        {
          "metadata": {
            "tags": null
          },
          "name": "stdout",
          "output_type": "stream",
          "text": [
            "len: 5\n",
            "[5043, 7701, 4628, 5443, 6885]\n",
            "10Folds\n"
          ]
        },
        {
          "metadata": {
            "tags": null
          },
          "name": "stderr",
          "output_type": "stream",
          "text": [
            "/usr/local/lib/python3.7/dist-packages/sklearn/model_selection/_split.py:680: UserWarning: The least populated class in y has only 6 members, which is less than n_splits=10.\n",
            "  UserWarning,\n",
            "/usr/local/lib/python3.7/dist-packages/sklearn/linear_model/_logistic.py:818: ConvergenceWarning: lbfgs failed to converge (status=1):\n",
            "STOP: TOTAL NO. of ITERATIONS REACHED LIMIT.\n",
            "\n",
            "Increase the number of iterations (max_iter) or scale the data as shown in:\n",
            "    https://scikit-learn.org/stable/modules/preprocessing.html\n",
            "Please also refer to the documentation for alternative solver options:\n",
            "    https://scikit-learn.org/stable/modules/linear_model.html#logistic-regression\n",
            "  extra_warning_msg=_LOGISTIC_SOLVER_CONVERGENCE_MSG,\n",
            "/usr/local/lib/python3.7/dist-packages/sklearn/linear_model/_logistic.py:818: ConvergenceWarning: lbfgs failed to converge (status=1):\n",
            "STOP: TOTAL NO. of ITERATIONS REACHED LIMIT.\n",
            "\n",
            "Increase the number of iterations (max_iter) or scale the data as shown in:\n",
            "    https://scikit-learn.org/stable/modules/preprocessing.html\n",
            "Please also refer to the documentation for alternative solver options:\n",
            "    https://scikit-learn.org/stable/modules/linear_model.html#logistic-regression\n",
            "  extra_warning_msg=_LOGISTIC_SOLVER_CONVERGENCE_MSG,\n",
            "/usr/local/lib/python3.7/dist-packages/sklearn/linear_model/_logistic.py:818: ConvergenceWarning: lbfgs failed to converge (status=1):\n",
            "STOP: TOTAL NO. of ITERATIONS REACHED LIMIT.\n",
            "\n",
            "Increase the number of iterations (max_iter) or scale the data as shown in:\n",
            "    https://scikit-learn.org/stable/modules/preprocessing.html\n",
            "Please also refer to the documentation for alternative solver options:\n",
            "    https://scikit-learn.org/stable/modules/linear_model.html#logistic-regression\n",
            "  extra_warning_msg=_LOGISTIC_SOLVER_CONVERGENCE_MSG,\n",
            "/usr/local/lib/python3.7/dist-packages/sklearn/linear_model/_logistic.py:818: ConvergenceWarning: lbfgs failed to converge (status=1):\n",
            "STOP: TOTAL NO. of ITERATIONS REACHED LIMIT.\n",
            "\n",
            "Increase the number of iterations (max_iter) or scale the data as shown in:\n",
            "    https://scikit-learn.org/stable/modules/preprocessing.html\n",
            "Please also refer to the documentation for alternative solver options:\n",
            "    https://scikit-learn.org/stable/modules/linear_model.html#logistic-regression\n",
            "  extra_warning_msg=_LOGISTIC_SOLVER_CONVERGENCE_MSG,\n",
            "/usr/local/lib/python3.7/dist-packages/sklearn/linear_model/_logistic.py:818: ConvergenceWarning: lbfgs failed to converge (status=1):\n",
            "STOP: TOTAL NO. of ITERATIONS REACHED LIMIT.\n",
            "\n",
            "Increase the number of iterations (max_iter) or scale the data as shown in:\n",
            "    https://scikit-learn.org/stable/modules/preprocessing.html\n",
            "Please also refer to the documentation for alternative solver options:\n",
            "    https://scikit-learn.org/stable/modules/linear_model.html#logistic-regression\n",
            "  extra_warning_msg=_LOGISTIC_SOLVER_CONVERGENCE_MSG,\n",
            "/usr/local/lib/python3.7/dist-packages/sklearn/linear_model/_logistic.py:818: ConvergenceWarning: lbfgs failed to converge (status=1):\n",
            "STOP: TOTAL NO. of ITERATIONS REACHED LIMIT.\n",
            "\n",
            "Increase the number of iterations (max_iter) or scale the data as shown in:\n",
            "    https://scikit-learn.org/stable/modules/preprocessing.html\n",
            "Please also refer to the documentation for alternative solver options:\n",
            "    https://scikit-learn.org/stable/modules/linear_model.html#logistic-regression\n",
            "  extra_warning_msg=_LOGISTIC_SOLVER_CONVERGENCE_MSG,\n",
            "/usr/local/lib/python3.7/dist-packages/sklearn/linear_model/_logistic.py:818: ConvergenceWarning: lbfgs failed to converge (status=1):\n",
            "STOP: TOTAL NO. of ITERATIONS REACHED LIMIT.\n",
            "\n",
            "Increase the number of iterations (max_iter) or scale the data as shown in:\n",
            "    https://scikit-learn.org/stable/modules/preprocessing.html\n",
            "Please also refer to the documentation for alternative solver options:\n",
            "    https://scikit-learn.org/stable/modules/linear_model.html#logistic-regression\n",
            "  extra_warning_msg=_LOGISTIC_SOLVER_CONVERGENCE_MSG,\n",
            "/usr/local/lib/python3.7/dist-packages/sklearn/linear_model/_logistic.py:818: ConvergenceWarning: lbfgs failed to converge (status=1):\n",
            "STOP: TOTAL NO. of ITERATIONS REACHED LIMIT.\n",
            "\n",
            "Increase the number of iterations (max_iter) or scale the data as shown in:\n",
            "    https://scikit-learn.org/stable/modules/preprocessing.html\n",
            "Please also refer to the documentation for alternative solver options:\n",
            "    https://scikit-learn.org/stable/modules/linear_model.html#logistic-regression\n",
            "  extra_warning_msg=_LOGISTIC_SOLVER_CONVERGENCE_MSG,\n",
            "/usr/local/lib/python3.7/dist-packages/sklearn/linear_model/_logistic.py:818: ConvergenceWarning: lbfgs failed to converge (status=1):\n",
            "STOP: TOTAL NO. of ITERATIONS REACHED LIMIT.\n",
            "\n",
            "Increase the number of iterations (max_iter) or scale the data as shown in:\n",
            "    https://scikit-learn.org/stable/modules/preprocessing.html\n",
            "Please also refer to the documentation for alternative solver options:\n",
            "    https://scikit-learn.org/stable/modules/linear_model.html#logistic-regression\n",
            "  extra_warning_msg=_LOGISTIC_SOLVER_CONVERGENCE_MSG,\n",
            "/usr/local/lib/python3.7/dist-packages/sklearn/linear_model/_logistic.py:818: ConvergenceWarning: lbfgs failed to converge (status=1):\n",
            "STOP: TOTAL NO. of ITERATIONS REACHED LIMIT.\n",
            "\n",
            "Increase the number of iterations (max_iter) or scale the data as shown in:\n",
            "    https://scikit-learn.org/stable/modules/preprocessing.html\n",
            "Please also refer to the documentation for alternative solver options:\n",
            "    https://scikit-learn.org/stable/modules/linear_model.html#logistic-regression\n",
            "  extra_warning_msg=_LOGISTIC_SOLVER_CONVERGENCE_MSG,\n"
          ]
        },
        {
          "metadata": {
            "tags": null
          },
          "name": "stdout",
          "output_type": "stream",
          "text": [
            "len: 10\n",
            "[5043, 7701, 4628, 5443, 6885, 2959, 13, 4704, 6960, 2309]\n",
            "10Folds\n"
          ]
        },
        {
          "metadata": {
            "tags": null
          },
          "name": "stderr",
          "output_type": "stream",
          "text": [
            "/usr/local/lib/python3.7/dist-packages/sklearn/model_selection/_split.py:680: UserWarning: The least populated class in y has only 6 members, which is less than n_splits=10.\n",
            "  UserWarning,\n"
          ]
        },
        {
          "metadata": {
            "tags": null
          },
          "name": "stdout",
          "output_type": "stream",
          "text": [
            "len: 10\n",
            "[5043, 7701, 4628, 5443, 6885, 2959, 13, 4704, 6960, 2309]\n",
            "10Folds\n"
          ]
        },
        {
          "metadata": {
            "tags": null
          },
          "name": "stderr",
          "output_type": "stream",
          "text": [
            "/usr/local/lib/python3.7/dist-packages/sklearn/model_selection/_split.py:680: UserWarning: The least populated class in y has only 6 members, which is less than n_splits=10.\n",
            "  UserWarning,\n"
          ]
        },
        {
          "metadata": {
            "tags": null
          },
          "name": "stdout",
          "output_type": "stream",
          "text": [
            "len: 10\n",
            "[5043, 7701, 4628, 5443, 6885, 2959, 13, 4704, 6960, 2309]\n",
            "10Folds\n"
          ]
        },
        {
          "metadata": {
            "tags": null
          },
          "name": "stderr",
          "output_type": "stream",
          "text": [
            "/usr/local/lib/python3.7/dist-packages/sklearn/model_selection/_split.py:680: UserWarning: The least populated class in y has only 6 members, which is less than n_splits=10.\n",
            "  UserWarning,\n"
          ]
        },
        {
          "metadata": {
            "tags": null
          },
          "name": "stdout",
          "output_type": "stream",
          "text": [
            "len: 10\n",
            "[5043, 7701, 4628, 5443, 6885, 2959, 13, 4704, 6960, 2309]\n",
            "10Folds\n"
          ]
        },
        {
          "metadata": {
            "tags": null
          },
          "name": "stderr",
          "output_type": "stream",
          "text": [
            "/usr/local/lib/python3.7/dist-packages/sklearn/model_selection/_split.py:680: UserWarning: The least populated class in y has only 6 members, which is less than n_splits=10.\n",
            "  UserWarning,\n"
          ]
        },
        {
          "metadata": {
            "tags": null
          },
          "name": "stdout",
          "output_type": "stream",
          "text": [
            "len: 10\n",
            "[5043, 7701, 4628, 5443, 6885, 2959, 13, 4704, 6960, 2309]\n",
            "10Folds\n"
          ]
        },
        {
          "metadata": {
            "tags": null
          },
          "name": "stderr",
          "output_type": "stream",
          "text": [
            "/usr/local/lib/python3.7/dist-packages/sklearn/model_selection/_split.py:680: UserWarning: The least populated class in y has only 6 members, which is less than n_splits=10.\n",
            "  UserWarning,\n",
            "/usr/local/lib/python3.7/dist-packages/sklearn/linear_model/_logistic.py:818: ConvergenceWarning: lbfgs failed to converge (status=1):\n",
            "STOP: TOTAL NO. of ITERATIONS REACHED LIMIT.\n",
            "\n",
            "Increase the number of iterations (max_iter) or scale the data as shown in:\n",
            "    https://scikit-learn.org/stable/modules/preprocessing.html\n",
            "Please also refer to the documentation for alternative solver options:\n",
            "    https://scikit-learn.org/stable/modules/linear_model.html#logistic-regression\n",
            "  extra_warning_msg=_LOGISTIC_SOLVER_CONVERGENCE_MSG,\n",
            "/usr/local/lib/python3.7/dist-packages/sklearn/linear_model/_logistic.py:818: ConvergenceWarning: lbfgs failed to converge (status=1):\n",
            "STOP: TOTAL NO. of ITERATIONS REACHED LIMIT.\n",
            "\n",
            "Increase the number of iterations (max_iter) or scale the data as shown in:\n",
            "    https://scikit-learn.org/stable/modules/preprocessing.html\n",
            "Please also refer to the documentation for alternative solver options:\n",
            "    https://scikit-learn.org/stable/modules/linear_model.html#logistic-regression\n",
            "  extra_warning_msg=_LOGISTIC_SOLVER_CONVERGENCE_MSG,\n",
            "/usr/local/lib/python3.7/dist-packages/sklearn/linear_model/_logistic.py:818: ConvergenceWarning: lbfgs failed to converge (status=1):\n",
            "STOP: TOTAL NO. of ITERATIONS REACHED LIMIT.\n",
            "\n",
            "Increase the number of iterations (max_iter) or scale the data as shown in:\n",
            "    https://scikit-learn.org/stable/modules/preprocessing.html\n",
            "Please also refer to the documentation for alternative solver options:\n",
            "    https://scikit-learn.org/stable/modules/linear_model.html#logistic-regression\n",
            "  extra_warning_msg=_LOGISTIC_SOLVER_CONVERGENCE_MSG,\n",
            "/usr/local/lib/python3.7/dist-packages/sklearn/linear_model/_logistic.py:818: ConvergenceWarning: lbfgs failed to converge (status=1):\n",
            "STOP: TOTAL NO. of ITERATIONS REACHED LIMIT.\n",
            "\n",
            "Increase the number of iterations (max_iter) or scale the data as shown in:\n",
            "    https://scikit-learn.org/stable/modules/preprocessing.html\n",
            "Please also refer to the documentation for alternative solver options:\n",
            "    https://scikit-learn.org/stable/modules/linear_model.html#logistic-regression\n",
            "  extra_warning_msg=_LOGISTIC_SOLVER_CONVERGENCE_MSG,\n",
            "/usr/local/lib/python3.7/dist-packages/sklearn/linear_model/_logistic.py:818: ConvergenceWarning: lbfgs failed to converge (status=1):\n",
            "STOP: TOTAL NO. of ITERATIONS REACHED LIMIT.\n",
            "\n",
            "Increase the number of iterations (max_iter) or scale the data as shown in:\n",
            "    https://scikit-learn.org/stable/modules/preprocessing.html\n",
            "Please also refer to the documentation for alternative solver options:\n",
            "    https://scikit-learn.org/stable/modules/linear_model.html#logistic-regression\n",
            "  extra_warning_msg=_LOGISTIC_SOLVER_CONVERGENCE_MSG,\n",
            "/usr/local/lib/python3.7/dist-packages/sklearn/linear_model/_logistic.py:818: ConvergenceWarning: lbfgs failed to converge (status=1):\n",
            "STOP: TOTAL NO. of ITERATIONS REACHED LIMIT.\n",
            "\n",
            "Increase the number of iterations (max_iter) or scale the data as shown in:\n",
            "    https://scikit-learn.org/stable/modules/preprocessing.html\n",
            "Please also refer to the documentation for alternative solver options:\n",
            "    https://scikit-learn.org/stable/modules/linear_model.html#logistic-regression\n",
            "  extra_warning_msg=_LOGISTIC_SOLVER_CONVERGENCE_MSG,\n",
            "/usr/local/lib/python3.7/dist-packages/sklearn/linear_model/_logistic.py:818: ConvergenceWarning: lbfgs failed to converge (status=1):\n",
            "STOP: TOTAL NO. of ITERATIONS REACHED LIMIT.\n",
            "\n",
            "Increase the number of iterations (max_iter) or scale the data as shown in:\n",
            "    https://scikit-learn.org/stable/modules/preprocessing.html\n",
            "Please also refer to the documentation for alternative solver options:\n",
            "    https://scikit-learn.org/stable/modules/linear_model.html#logistic-regression\n",
            "  extra_warning_msg=_LOGISTIC_SOLVER_CONVERGENCE_MSG,\n",
            "/usr/local/lib/python3.7/dist-packages/sklearn/linear_model/_logistic.py:818: ConvergenceWarning: lbfgs failed to converge (status=1):\n",
            "STOP: TOTAL NO. of ITERATIONS REACHED LIMIT.\n",
            "\n",
            "Increase the number of iterations (max_iter) or scale the data as shown in:\n",
            "    https://scikit-learn.org/stable/modules/preprocessing.html\n",
            "Please also refer to the documentation for alternative solver options:\n",
            "    https://scikit-learn.org/stable/modules/linear_model.html#logistic-regression\n",
            "  extra_warning_msg=_LOGISTIC_SOLVER_CONVERGENCE_MSG,\n",
            "/usr/local/lib/python3.7/dist-packages/sklearn/linear_model/_logistic.py:818: ConvergenceWarning: lbfgs failed to converge (status=1):\n",
            "STOP: TOTAL NO. of ITERATIONS REACHED LIMIT.\n",
            "\n",
            "Increase the number of iterations (max_iter) or scale the data as shown in:\n",
            "    https://scikit-learn.org/stable/modules/preprocessing.html\n",
            "Please also refer to the documentation for alternative solver options:\n",
            "    https://scikit-learn.org/stable/modules/linear_model.html#logistic-regression\n",
            "  extra_warning_msg=_LOGISTIC_SOLVER_CONVERGENCE_MSG,\n",
            "/usr/local/lib/python3.7/dist-packages/sklearn/linear_model/_logistic.py:818: ConvergenceWarning: lbfgs failed to converge (status=1):\n",
            "STOP: TOTAL NO. of ITERATIONS REACHED LIMIT.\n",
            "\n",
            "Increase the number of iterations (max_iter) or scale the data as shown in:\n",
            "    https://scikit-learn.org/stable/modules/preprocessing.html\n",
            "Please also refer to the documentation for alternative solver options:\n",
            "    https://scikit-learn.org/stable/modules/linear_model.html#logistic-regression\n",
            "  extra_warning_msg=_LOGISTIC_SOLVER_CONVERGENCE_MSG,\n"
          ]
        },
        {
          "metadata": {
            "tags": null
          },
          "name": "stdout",
          "output_type": "stream",
          "text": [
            "len: 15\n",
            "[5043, 7701, 4628, 5443, 6885, 2959, 13, 4704, 6960, 2309, 2914, 8824, 3292, 6190, 756]\n",
            "10Folds\n"
          ]
        },
        {
          "metadata": {
            "tags": null
          },
          "name": "stderr",
          "output_type": "stream",
          "text": [
            "/usr/local/lib/python3.7/dist-packages/sklearn/model_selection/_split.py:680: UserWarning: The least populated class in y has only 6 members, which is less than n_splits=10.\n",
            "  UserWarning,\n"
          ]
        },
        {
          "metadata": {
            "tags": null
          },
          "name": "stdout",
          "output_type": "stream",
          "text": [
            "len: 15\n",
            "[5043, 7701, 4628, 5443, 6885, 2959, 13, 4704, 6960, 2309, 2914, 8824, 3292, 6190, 756]\n",
            "10Folds\n"
          ]
        },
        {
          "metadata": {
            "tags": null
          },
          "name": "stderr",
          "output_type": "stream",
          "text": [
            "/usr/local/lib/python3.7/dist-packages/sklearn/model_selection/_split.py:680: UserWarning: The least populated class in y has only 6 members, which is less than n_splits=10.\n",
            "  UserWarning,\n"
          ]
        },
        {
          "metadata": {
            "tags": null
          },
          "name": "stdout",
          "output_type": "stream",
          "text": [
            "len: 15\n",
            "[5043, 7701, 4628, 5443, 6885, 2959, 13, 4704, 6960, 2309, 2914, 8824, 3292, 6190, 756]\n",
            "10Folds\n"
          ]
        },
        {
          "metadata": {
            "tags": null
          },
          "name": "stderr",
          "output_type": "stream",
          "text": [
            "/usr/local/lib/python3.7/dist-packages/sklearn/model_selection/_split.py:680: UserWarning: The least populated class in y has only 6 members, which is less than n_splits=10.\n",
            "  UserWarning,\n"
          ]
        },
        {
          "metadata": {
            "tags": null
          },
          "name": "stdout",
          "output_type": "stream",
          "text": [
            "len: 15\n",
            "[5043, 7701, 4628, 5443, 6885, 2959, 13, 4704, 6960, 2309, 2914, 8824, 3292, 6190, 756]\n",
            "10Folds\n"
          ]
        },
        {
          "metadata": {
            "tags": null
          },
          "name": "stderr",
          "output_type": "stream",
          "text": [
            "/usr/local/lib/python3.7/dist-packages/sklearn/model_selection/_split.py:680: UserWarning: The least populated class in y has only 6 members, which is less than n_splits=10.\n",
            "  UserWarning,\n"
          ]
        },
        {
          "metadata": {
            "tags": null
          },
          "name": "stdout",
          "output_type": "stream",
          "text": [
            "len: 15\n",
            "[5043, 7701, 4628, 5443, 6885, 2959, 13, 4704, 6960, 2309, 2914, 8824, 3292, 6190, 756]\n",
            "10Folds\n"
          ]
        },
        {
          "metadata": {
            "tags": null
          },
          "name": "stderr",
          "output_type": "stream",
          "text": [
            "/usr/local/lib/python3.7/dist-packages/sklearn/model_selection/_split.py:680: UserWarning: The least populated class in y has only 6 members, which is less than n_splits=10.\n",
            "  UserWarning,\n",
            "/usr/local/lib/python3.7/dist-packages/sklearn/linear_model/_logistic.py:818: ConvergenceWarning: lbfgs failed to converge (status=1):\n",
            "STOP: TOTAL NO. of ITERATIONS REACHED LIMIT.\n",
            "\n",
            "Increase the number of iterations (max_iter) or scale the data as shown in:\n",
            "    https://scikit-learn.org/stable/modules/preprocessing.html\n",
            "Please also refer to the documentation for alternative solver options:\n",
            "    https://scikit-learn.org/stable/modules/linear_model.html#logistic-regression\n",
            "  extra_warning_msg=_LOGISTIC_SOLVER_CONVERGENCE_MSG,\n",
            "/usr/local/lib/python3.7/dist-packages/sklearn/linear_model/_logistic.py:818: ConvergenceWarning: lbfgs failed to converge (status=1):\n",
            "STOP: TOTAL NO. of ITERATIONS REACHED LIMIT.\n",
            "\n",
            "Increase the number of iterations (max_iter) or scale the data as shown in:\n",
            "    https://scikit-learn.org/stable/modules/preprocessing.html\n",
            "Please also refer to the documentation for alternative solver options:\n",
            "    https://scikit-learn.org/stable/modules/linear_model.html#logistic-regression\n",
            "  extra_warning_msg=_LOGISTIC_SOLVER_CONVERGENCE_MSG,\n",
            "/usr/local/lib/python3.7/dist-packages/sklearn/linear_model/_logistic.py:818: ConvergenceWarning: lbfgs failed to converge (status=1):\n",
            "STOP: TOTAL NO. of ITERATIONS REACHED LIMIT.\n",
            "\n",
            "Increase the number of iterations (max_iter) or scale the data as shown in:\n",
            "    https://scikit-learn.org/stable/modules/preprocessing.html\n",
            "Please also refer to the documentation for alternative solver options:\n",
            "    https://scikit-learn.org/stable/modules/linear_model.html#logistic-regression\n",
            "  extra_warning_msg=_LOGISTIC_SOLVER_CONVERGENCE_MSG,\n",
            "/usr/local/lib/python3.7/dist-packages/sklearn/linear_model/_logistic.py:818: ConvergenceWarning: lbfgs failed to converge (status=1):\n",
            "STOP: TOTAL NO. of ITERATIONS REACHED LIMIT.\n",
            "\n",
            "Increase the number of iterations (max_iter) or scale the data as shown in:\n",
            "    https://scikit-learn.org/stable/modules/preprocessing.html\n",
            "Please also refer to the documentation for alternative solver options:\n",
            "    https://scikit-learn.org/stable/modules/linear_model.html#logistic-regression\n",
            "  extra_warning_msg=_LOGISTIC_SOLVER_CONVERGENCE_MSG,\n",
            "/usr/local/lib/python3.7/dist-packages/sklearn/linear_model/_logistic.py:818: ConvergenceWarning: lbfgs failed to converge (status=1):\n",
            "STOP: TOTAL NO. of ITERATIONS REACHED LIMIT.\n",
            "\n",
            "Increase the number of iterations (max_iter) or scale the data as shown in:\n",
            "    https://scikit-learn.org/stable/modules/preprocessing.html\n",
            "Please also refer to the documentation for alternative solver options:\n",
            "    https://scikit-learn.org/stable/modules/linear_model.html#logistic-regression\n",
            "  extra_warning_msg=_LOGISTIC_SOLVER_CONVERGENCE_MSG,\n",
            "/usr/local/lib/python3.7/dist-packages/sklearn/linear_model/_logistic.py:818: ConvergenceWarning: lbfgs failed to converge (status=1):\n",
            "STOP: TOTAL NO. of ITERATIONS REACHED LIMIT.\n",
            "\n",
            "Increase the number of iterations (max_iter) or scale the data as shown in:\n",
            "    https://scikit-learn.org/stable/modules/preprocessing.html\n",
            "Please also refer to the documentation for alternative solver options:\n",
            "    https://scikit-learn.org/stable/modules/linear_model.html#logistic-regression\n",
            "  extra_warning_msg=_LOGISTIC_SOLVER_CONVERGENCE_MSG,\n",
            "/usr/local/lib/python3.7/dist-packages/sklearn/linear_model/_logistic.py:818: ConvergenceWarning: lbfgs failed to converge (status=1):\n",
            "STOP: TOTAL NO. of ITERATIONS REACHED LIMIT.\n",
            "\n",
            "Increase the number of iterations (max_iter) or scale the data as shown in:\n",
            "    https://scikit-learn.org/stable/modules/preprocessing.html\n",
            "Please also refer to the documentation for alternative solver options:\n",
            "    https://scikit-learn.org/stable/modules/linear_model.html#logistic-regression\n",
            "  extra_warning_msg=_LOGISTIC_SOLVER_CONVERGENCE_MSG,\n",
            "/usr/local/lib/python3.7/dist-packages/sklearn/linear_model/_logistic.py:818: ConvergenceWarning: lbfgs failed to converge (status=1):\n",
            "STOP: TOTAL NO. of ITERATIONS REACHED LIMIT.\n",
            "\n",
            "Increase the number of iterations (max_iter) or scale the data as shown in:\n",
            "    https://scikit-learn.org/stable/modules/preprocessing.html\n",
            "Please also refer to the documentation for alternative solver options:\n",
            "    https://scikit-learn.org/stable/modules/linear_model.html#logistic-regression\n",
            "  extra_warning_msg=_LOGISTIC_SOLVER_CONVERGENCE_MSG,\n",
            "/usr/local/lib/python3.7/dist-packages/sklearn/linear_model/_logistic.py:818: ConvergenceWarning: lbfgs failed to converge (status=1):\n",
            "STOP: TOTAL NO. of ITERATIONS REACHED LIMIT.\n",
            "\n",
            "Increase the number of iterations (max_iter) or scale the data as shown in:\n",
            "    https://scikit-learn.org/stable/modules/preprocessing.html\n",
            "Please also refer to the documentation for alternative solver options:\n",
            "    https://scikit-learn.org/stable/modules/linear_model.html#logistic-regression\n",
            "  extra_warning_msg=_LOGISTIC_SOLVER_CONVERGENCE_MSG,\n",
            "/usr/local/lib/python3.7/dist-packages/sklearn/linear_model/_logistic.py:818: ConvergenceWarning: lbfgs failed to converge (status=1):\n",
            "STOP: TOTAL NO. of ITERATIONS REACHED LIMIT.\n",
            "\n",
            "Increase the number of iterations (max_iter) or scale the data as shown in:\n",
            "    https://scikit-learn.org/stable/modules/preprocessing.html\n",
            "Please also refer to the documentation for alternative solver options:\n",
            "    https://scikit-learn.org/stable/modules/linear_model.html#logistic-regression\n",
            "  extra_warning_msg=_LOGISTIC_SOLVER_CONVERGENCE_MSG,\n"
          ]
        },
        {
          "metadata": {
            "tags": null
          },
          "name": "stdout",
          "output_type": "stream",
          "text": [
            "len: 20\n",
            "[5043, 7701, 4628, 5443, 6885, 2959, 13, 4704, 6960, 2309, 2914, 8824, 3292, 6190, 756, 245, 7145, 8111, 5024, 6662]\n",
            "10Folds\n"
          ]
        },
        {
          "metadata": {
            "tags": null
          },
          "name": "stderr",
          "output_type": "stream",
          "text": [
            "/usr/local/lib/python3.7/dist-packages/sklearn/model_selection/_split.py:680: UserWarning: The least populated class in y has only 6 members, which is less than n_splits=10.\n",
            "  UserWarning,\n"
          ]
        },
        {
          "metadata": {
            "tags": null
          },
          "name": "stdout",
          "output_type": "stream",
          "text": [
            "len: 20\n",
            "[5043, 7701, 4628, 5443, 6885, 2959, 13, 4704, 6960, 2309, 2914, 8824, 3292, 6190, 756, 245, 7145, 8111, 5024, 6662]\n",
            "10Folds\n"
          ]
        },
        {
          "metadata": {
            "tags": null
          },
          "name": "stderr",
          "output_type": "stream",
          "text": [
            "/usr/local/lib/python3.7/dist-packages/sklearn/model_selection/_split.py:680: UserWarning: The least populated class in y has only 6 members, which is less than n_splits=10.\n",
            "  UserWarning,\n"
          ]
        },
        {
          "metadata": {
            "tags": null
          },
          "name": "stdout",
          "output_type": "stream",
          "text": [
            "len: 20\n",
            "[5043, 7701, 4628, 5443, 6885, 2959, 13, 4704, 6960, 2309, 2914, 8824, 3292, 6190, 756, 245, 7145, 8111, 5024, 6662]\n",
            "10Folds\n"
          ]
        },
        {
          "metadata": {
            "tags": null
          },
          "name": "stderr",
          "output_type": "stream",
          "text": [
            "/usr/local/lib/python3.7/dist-packages/sklearn/model_selection/_split.py:680: UserWarning: The least populated class in y has only 6 members, which is less than n_splits=10.\n",
            "  UserWarning,\n"
          ]
        },
        {
          "metadata": {
            "tags": null
          },
          "name": "stdout",
          "output_type": "stream",
          "text": [
            "len: 20\n",
            "[5043, 7701, 4628, 5443, 6885, 2959, 13, 4704, 6960, 2309, 2914, 8824, 3292, 6190, 756, 245, 7145, 8111, 5024, 6662]\n",
            "10Folds\n"
          ]
        },
        {
          "metadata": {
            "tags": null
          },
          "name": "stderr",
          "output_type": "stream",
          "text": [
            "/usr/local/lib/python3.7/dist-packages/sklearn/model_selection/_split.py:680: UserWarning: The least populated class in y has only 6 members, which is less than n_splits=10.\n",
            "  UserWarning,\n"
          ]
        },
        {
          "metadata": {
            "tags": null
          },
          "name": "stdout",
          "output_type": "stream",
          "text": [
            "len: 20\n",
            "[5043, 7701, 4628, 5443, 6885, 2959, 13, 4704, 6960, 2309, 2914, 8824, 3292, 6190, 756, 245, 7145, 8111, 5024, 6662]\n",
            "10Folds\n"
          ]
        },
        {
          "metadata": {
            "tags": null
          },
          "name": "stderr",
          "output_type": "stream",
          "text": [
            "/usr/local/lib/python3.7/dist-packages/sklearn/model_selection/_split.py:680: UserWarning: The least populated class in y has only 6 members, which is less than n_splits=10.\n",
            "  UserWarning,\n",
            "/usr/local/lib/python3.7/dist-packages/sklearn/linear_model/_logistic.py:818: ConvergenceWarning: lbfgs failed to converge (status=1):\n",
            "STOP: TOTAL NO. of ITERATIONS REACHED LIMIT.\n",
            "\n",
            "Increase the number of iterations (max_iter) or scale the data as shown in:\n",
            "    https://scikit-learn.org/stable/modules/preprocessing.html\n",
            "Please also refer to the documentation for alternative solver options:\n",
            "    https://scikit-learn.org/stable/modules/linear_model.html#logistic-regression\n",
            "  extra_warning_msg=_LOGISTIC_SOLVER_CONVERGENCE_MSG,\n",
            "/usr/local/lib/python3.7/dist-packages/sklearn/linear_model/_logistic.py:818: ConvergenceWarning: lbfgs failed to converge (status=1):\n",
            "STOP: TOTAL NO. of ITERATIONS REACHED LIMIT.\n",
            "\n",
            "Increase the number of iterations (max_iter) or scale the data as shown in:\n",
            "    https://scikit-learn.org/stable/modules/preprocessing.html\n",
            "Please also refer to the documentation for alternative solver options:\n",
            "    https://scikit-learn.org/stable/modules/linear_model.html#logistic-regression\n",
            "  extra_warning_msg=_LOGISTIC_SOLVER_CONVERGENCE_MSG,\n",
            "/usr/local/lib/python3.7/dist-packages/sklearn/linear_model/_logistic.py:818: ConvergenceWarning: lbfgs failed to converge (status=1):\n",
            "STOP: TOTAL NO. of ITERATIONS REACHED LIMIT.\n",
            "\n",
            "Increase the number of iterations (max_iter) or scale the data as shown in:\n",
            "    https://scikit-learn.org/stable/modules/preprocessing.html\n",
            "Please also refer to the documentation for alternative solver options:\n",
            "    https://scikit-learn.org/stable/modules/linear_model.html#logistic-regression\n",
            "  extra_warning_msg=_LOGISTIC_SOLVER_CONVERGENCE_MSG,\n",
            "/usr/local/lib/python3.7/dist-packages/sklearn/linear_model/_logistic.py:818: ConvergenceWarning: lbfgs failed to converge (status=1):\n",
            "STOP: TOTAL NO. of ITERATIONS REACHED LIMIT.\n",
            "\n",
            "Increase the number of iterations (max_iter) or scale the data as shown in:\n",
            "    https://scikit-learn.org/stable/modules/preprocessing.html\n",
            "Please also refer to the documentation for alternative solver options:\n",
            "    https://scikit-learn.org/stable/modules/linear_model.html#logistic-regression\n",
            "  extra_warning_msg=_LOGISTIC_SOLVER_CONVERGENCE_MSG,\n",
            "/usr/local/lib/python3.7/dist-packages/sklearn/linear_model/_logistic.py:818: ConvergenceWarning: lbfgs failed to converge (status=1):\n",
            "STOP: TOTAL NO. of ITERATIONS REACHED LIMIT.\n",
            "\n",
            "Increase the number of iterations (max_iter) or scale the data as shown in:\n",
            "    https://scikit-learn.org/stable/modules/preprocessing.html\n",
            "Please also refer to the documentation for alternative solver options:\n",
            "    https://scikit-learn.org/stable/modules/linear_model.html#logistic-regression\n",
            "  extra_warning_msg=_LOGISTIC_SOLVER_CONVERGENCE_MSG,\n",
            "/usr/local/lib/python3.7/dist-packages/sklearn/linear_model/_logistic.py:818: ConvergenceWarning: lbfgs failed to converge (status=1):\n",
            "STOP: TOTAL NO. of ITERATIONS REACHED LIMIT.\n",
            "\n",
            "Increase the number of iterations (max_iter) or scale the data as shown in:\n",
            "    https://scikit-learn.org/stable/modules/preprocessing.html\n",
            "Please also refer to the documentation for alternative solver options:\n",
            "    https://scikit-learn.org/stable/modules/linear_model.html#logistic-regression\n",
            "  extra_warning_msg=_LOGISTIC_SOLVER_CONVERGENCE_MSG,\n",
            "/usr/local/lib/python3.7/dist-packages/sklearn/linear_model/_logistic.py:818: ConvergenceWarning: lbfgs failed to converge (status=1):\n",
            "STOP: TOTAL NO. of ITERATIONS REACHED LIMIT.\n",
            "\n",
            "Increase the number of iterations (max_iter) or scale the data as shown in:\n",
            "    https://scikit-learn.org/stable/modules/preprocessing.html\n",
            "Please also refer to the documentation for alternative solver options:\n",
            "    https://scikit-learn.org/stable/modules/linear_model.html#logistic-regression\n",
            "  extra_warning_msg=_LOGISTIC_SOLVER_CONVERGENCE_MSG,\n",
            "/usr/local/lib/python3.7/dist-packages/sklearn/linear_model/_logistic.py:818: ConvergenceWarning: lbfgs failed to converge (status=1):\n",
            "STOP: TOTAL NO. of ITERATIONS REACHED LIMIT.\n",
            "\n",
            "Increase the number of iterations (max_iter) or scale the data as shown in:\n",
            "    https://scikit-learn.org/stable/modules/preprocessing.html\n",
            "Please also refer to the documentation for alternative solver options:\n",
            "    https://scikit-learn.org/stable/modules/linear_model.html#logistic-regression\n",
            "  extra_warning_msg=_LOGISTIC_SOLVER_CONVERGENCE_MSG,\n",
            "/usr/local/lib/python3.7/dist-packages/sklearn/linear_model/_logistic.py:818: ConvergenceWarning: lbfgs failed to converge (status=1):\n",
            "STOP: TOTAL NO. of ITERATIONS REACHED LIMIT.\n",
            "\n",
            "Increase the number of iterations (max_iter) or scale the data as shown in:\n",
            "    https://scikit-learn.org/stable/modules/preprocessing.html\n",
            "Please also refer to the documentation for alternative solver options:\n",
            "    https://scikit-learn.org/stable/modules/linear_model.html#logistic-regression\n",
            "  extra_warning_msg=_LOGISTIC_SOLVER_CONVERGENCE_MSG,\n",
            "/usr/local/lib/python3.7/dist-packages/sklearn/linear_model/_logistic.py:818: ConvergenceWarning: lbfgs failed to converge (status=1):\n",
            "STOP: TOTAL NO. of ITERATIONS REACHED LIMIT.\n",
            "\n",
            "Increase the number of iterations (max_iter) or scale the data as shown in:\n",
            "    https://scikit-learn.org/stable/modules/preprocessing.html\n",
            "Please also refer to the documentation for alternative solver options:\n",
            "    https://scikit-learn.org/stable/modules/linear_model.html#logistic-regression\n",
            "  extra_warning_msg=_LOGISTIC_SOLVER_CONVERGENCE_MSG,\n"
          ]
        },
        {
          "metadata": {
            "tags": null
          },
          "name": "stdout",
          "output_type": "stream",
          "text": [
            "len: 25\n",
            "[5043, 7701, 4628, 5443, 6885, 2959, 13, 4704, 6960, 2309, 2914, 8824, 3292, 6190, 756, 245, 7145, 8111, 5024, 6662, 6386, 774, 4956, 1114, 451]\n",
            "10Folds\n"
          ]
        },
        {
          "metadata": {
            "tags": null
          },
          "name": "stderr",
          "output_type": "stream",
          "text": [
            "/usr/local/lib/python3.7/dist-packages/sklearn/model_selection/_split.py:680: UserWarning: The least populated class in y has only 6 members, which is less than n_splits=10.\n",
            "  UserWarning,\n"
          ]
        },
        {
          "metadata": {
            "tags": null
          },
          "name": "stdout",
          "output_type": "stream",
          "text": [
            "len: 25\n",
            "[5043, 7701, 4628, 5443, 6885, 2959, 13, 4704, 6960, 2309, 2914, 8824, 3292, 6190, 756, 245, 7145, 8111, 5024, 6662, 6386, 774, 4956, 1114, 451]\n",
            "10Folds\n"
          ]
        },
        {
          "metadata": {
            "tags": null
          },
          "name": "stderr",
          "output_type": "stream",
          "text": [
            "/usr/local/lib/python3.7/dist-packages/sklearn/model_selection/_split.py:680: UserWarning: The least populated class in y has only 6 members, which is less than n_splits=10.\n",
            "  UserWarning,\n"
          ]
        },
        {
          "metadata": {
            "tags": null
          },
          "name": "stdout",
          "output_type": "stream",
          "text": [
            "len: 25\n",
            "[5043, 7701, 4628, 5443, 6885, 2959, 13, 4704, 6960, 2309, 2914, 8824, 3292, 6190, 756, 245, 7145, 8111, 5024, 6662, 6386, 774, 4956, 1114, 451]\n",
            "10Folds\n"
          ]
        },
        {
          "metadata": {
            "tags": null
          },
          "name": "stderr",
          "output_type": "stream",
          "text": [
            "/usr/local/lib/python3.7/dist-packages/sklearn/model_selection/_split.py:680: UserWarning: The least populated class in y has only 6 members, which is less than n_splits=10.\n",
            "  UserWarning,\n"
          ]
        },
        {
          "metadata": {
            "tags": null
          },
          "name": "stdout",
          "output_type": "stream",
          "text": [
            "len: 25\n",
            "[5043, 7701, 4628, 5443, 6885, 2959, 13, 4704, 6960, 2309, 2914, 8824, 3292, 6190, 756, 245, 7145, 8111, 5024, 6662, 6386, 774, 4956, 1114, 451]\n",
            "10Folds\n"
          ]
        },
        {
          "metadata": {
            "tags": null
          },
          "name": "stderr",
          "output_type": "stream",
          "text": [
            "/usr/local/lib/python3.7/dist-packages/sklearn/model_selection/_split.py:680: UserWarning: The least populated class in y has only 6 members, which is less than n_splits=10.\n",
            "  UserWarning,\n"
          ]
        },
        {
          "metadata": {
            "tags": null
          },
          "name": "stdout",
          "output_type": "stream",
          "text": [
            "len: 25\n",
            "[5043, 7701, 4628, 5443, 6885, 2959, 13, 4704, 6960, 2309, 2914, 8824, 3292, 6190, 756, 245, 7145, 8111, 5024, 6662, 6386, 774, 4956, 1114, 451]\n",
            "10Folds\n"
          ]
        },
        {
          "metadata": {
            "tags": null
          },
          "name": "stderr",
          "output_type": "stream",
          "text": [
            "/usr/local/lib/python3.7/dist-packages/sklearn/model_selection/_split.py:680: UserWarning: The least populated class in y has only 6 members, which is less than n_splits=10.\n",
            "  UserWarning,\n",
            "/usr/local/lib/python3.7/dist-packages/sklearn/linear_model/_logistic.py:818: ConvergenceWarning: lbfgs failed to converge (status=1):\n",
            "STOP: TOTAL NO. of ITERATIONS REACHED LIMIT.\n",
            "\n",
            "Increase the number of iterations (max_iter) or scale the data as shown in:\n",
            "    https://scikit-learn.org/stable/modules/preprocessing.html\n",
            "Please also refer to the documentation for alternative solver options:\n",
            "    https://scikit-learn.org/stable/modules/linear_model.html#logistic-regression\n",
            "  extra_warning_msg=_LOGISTIC_SOLVER_CONVERGENCE_MSG,\n",
            "/usr/local/lib/python3.7/dist-packages/sklearn/linear_model/_logistic.py:818: ConvergenceWarning: lbfgs failed to converge (status=1):\n",
            "STOP: TOTAL NO. of ITERATIONS REACHED LIMIT.\n",
            "\n",
            "Increase the number of iterations (max_iter) or scale the data as shown in:\n",
            "    https://scikit-learn.org/stable/modules/preprocessing.html\n",
            "Please also refer to the documentation for alternative solver options:\n",
            "    https://scikit-learn.org/stable/modules/linear_model.html#logistic-regression\n",
            "  extra_warning_msg=_LOGISTIC_SOLVER_CONVERGENCE_MSG,\n",
            "/usr/local/lib/python3.7/dist-packages/sklearn/linear_model/_logistic.py:818: ConvergenceWarning: lbfgs failed to converge (status=1):\n",
            "STOP: TOTAL NO. of ITERATIONS REACHED LIMIT.\n",
            "\n",
            "Increase the number of iterations (max_iter) or scale the data as shown in:\n",
            "    https://scikit-learn.org/stable/modules/preprocessing.html\n",
            "Please also refer to the documentation for alternative solver options:\n",
            "    https://scikit-learn.org/stable/modules/linear_model.html#logistic-regression\n",
            "  extra_warning_msg=_LOGISTIC_SOLVER_CONVERGENCE_MSG,\n",
            "/usr/local/lib/python3.7/dist-packages/sklearn/linear_model/_logistic.py:818: ConvergenceWarning: lbfgs failed to converge (status=1):\n",
            "STOP: TOTAL NO. of ITERATIONS REACHED LIMIT.\n",
            "\n",
            "Increase the number of iterations (max_iter) or scale the data as shown in:\n",
            "    https://scikit-learn.org/stable/modules/preprocessing.html\n",
            "Please also refer to the documentation for alternative solver options:\n",
            "    https://scikit-learn.org/stable/modules/linear_model.html#logistic-regression\n",
            "  extra_warning_msg=_LOGISTIC_SOLVER_CONVERGENCE_MSG,\n",
            "/usr/local/lib/python3.7/dist-packages/sklearn/linear_model/_logistic.py:818: ConvergenceWarning: lbfgs failed to converge (status=1):\n",
            "STOP: TOTAL NO. of ITERATIONS REACHED LIMIT.\n",
            "\n",
            "Increase the number of iterations (max_iter) or scale the data as shown in:\n",
            "    https://scikit-learn.org/stable/modules/preprocessing.html\n",
            "Please also refer to the documentation for alternative solver options:\n",
            "    https://scikit-learn.org/stable/modules/linear_model.html#logistic-regression\n",
            "  extra_warning_msg=_LOGISTIC_SOLVER_CONVERGENCE_MSG,\n",
            "/usr/local/lib/python3.7/dist-packages/sklearn/linear_model/_logistic.py:818: ConvergenceWarning: lbfgs failed to converge (status=1):\n",
            "STOP: TOTAL NO. of ITERATIONS REACHED LIMIT.\n",
            "\n",
            "Increase the number of iterations (max_iter) or scale the data as shown in:\n",
            "    https://scikit-learn.org/stable/modules/preprocessing.html\n",
            "Please also refer to the documentation for alternative solver options:\n",
            "    https://scikit-learn.org/stable/modules/linear_model.html#logistic-regression\n",
            "  extra_warning_msg=_LOGISTIC_SOLVER_CONVERGENCE_MSG,\n",
            "/usr/local/lib/python3.7/dist-packages/sklearn/linear_model/_logistic.py:818: ConvergenceWarning: lbfgs failed to converge (status=1):\n",
            "STOP: TOTAL NO. of ITERATIONS REACHED LIMIT.\n",
            "\n",
            "Increase the number of iterations (max_iter) or scale the data as shown in:\n",
            "    https://scikit-learn.org/stable/modules/preprocessing.html\n",
            "Please also refer to the documentation for alternative solver options:\n",
            "    https://scikit-learn.org/stable/modules/linear_model.html#logistic-regression\n",
            "  extra_warning_msg=_LOGISTIC_SOLVER_CONVERGENCE_MSG,\n",
            "/usr/local/lib/python3.7/dist-packages/sklearn/linear_model/_logistic.py:818: ConvergenceWarning: lbfgs failed to converge (status=1):\n",
            "STOP: TOTAL NO. of ITERATIONS REACHED LIMIT.\n",
            "\n",
            "Increase the number of iterations (max_iter) or scale the data as shown in:\n",
            "    https://scikit-learn.org/stable/modules/preprocessing.html\n",
            "Please also refer to the documentation for alternative solver options:\n",
            "    https://scikit-learn.org/stable/modules/linear_model.html#logistic-regression\n",
            "  extra_warning_msg=_LOGISTIC_SOLVER_CONVERGENCE_MSG,\n",
            "/usr/local/lib/python3.7/dist-packages/sklearn/linear_model/_logistic.py:818: ConvergenceWarning: lbfgs failed to converge (status=1):\n",
            "STOP: TOTAL NO. of ITERATIONS REACHED LIMIT.\n",
            "\n",
            "Increase the number of iterations (max_iter) or scale the data as shown in:\n",
            "    https://scikit-learn.org/stable/modules/preprocessing.html\n",
            "Please also refer to the documentation for alternative solver options:\n",
            "    https://scikit-learn.org/stable/modules/linear_model.html#logistic-regression\n",
            "  extra_warning_msg=_LOGISTIC_SOLVER_CONVERGENCE_MSG,\n",
            "/usr/local/lib/python3.7/dist-packages/sklearn/linear_model/_logistic.py:818: ConvergenceWarning: lbfgs failed to converge (status=1):\n",
            "STOP: TOTAL NO. of ITERATIONS REACHED LIMIT.\n",
            "\n",
            "Increase the number of iterations (max_iter) or scale the data as shown in:\n",
            "    https://scikit-learn.org/stable/modules/preprocessing.html\n",
            "Please also refer to the documentation for alternative solver options:\n",
            "    https://scikit-learn.org/stable/modules/linear_model.html#logistic-regression\n",
            "  extra_warning_msg=_LOGISTIC_SOLVER_CONVERGENCE_MSG,\n"
          ]
        },
        {
          "output_type": "stream",
          "name": "stdout",
          "text": [
            "len: 30\n",
            "[5043, 7701, 4628, 5443, 6885, 2959, 13, 4704, 6960, 2309, 2914, 8824, 3292, 6190, 756, 245, 7145, 8111, 5024, 6662, 6386, 774, 4956, 1114, 451, 6629, 3783, 1738, 8434, 7695]\n",
            "10Folds\n"
          ]
        },
        {
          "output_type": "stream",
          "name": "stderr",
          "text": [
            "/usr/local/lib/python3.7/dist-packages/sklearn/model_selection/_split.py:680: UserWarning: The least populated class in y has only 6 members, which is less than n_splits=10.\n",
            "  UserWarning,\n"
          ]
        },
        {
          "output_type": "stream",
          "name": "stdout",
          "text": [
            "len: 30\n",
            "[5043, 7701, 4628, 5443, 6885, 2959, 13, 4704, 6960, 2309, 2914, 8824, 3292, 6190, 756, 245, 7145, 8111, 5024, 6662, 6386, 774, 4956, 1114, 451, 6629, 3783, 1738, 8434, 7695]\n",
            "10Folds\n"
          ]
        },
        {
          "output_type": "stream",
          "name": "stderr",
          "text": [
            "/usr/local/lib/python3.7/dist-packages/sklearn/model_selection/_split.py:680: UserWarning: The least populated class in y has only 6 members, which is less than n_splits=10.\n",
            "  UserWarning,\n"
          ]
        },
        {
          "output_type": "stream",
          "name": "stdout",
          "text": [
            "len: 30\n",
            "[5043, 7701, 4628, 5443, 6885, 2959, 13, 4704, 6960, 2309, 2914, 8824, 3292, 6190, 756, 245, 7145, 8111, 5024, 6662, 6386, 774, 4956, 1114, 451, 6629, 3783, 1738, 8434, 7695]\n",
            "10Folds\n"
          ]
        },
        {
          "output_type": "stream",
          "name": "stderr",
          "text": [
            "/usr/local/lib/python3.7/dist-packages/sklearn/model_selection/_split.py:680: UserWarning: The least populated class in y has only 6 members, which is less than n_splits=10.\n",
            "  UserWarning,\n"
          ]
        },
        {
          "output_type": "stream",
          "name": "stdout",
          "text": [
            "len: 30\n",
            "[5043, 7701, 4628, 5443, 6885, 2959, 13, 4704, 6960, 2309, 2914, 8824, 3292, 6190, 756, 245, 7145, 8111, 5024, 6662, 6386, 774, 4956, 1114, 451, 6629, 3783, 1738, 8434, 7695]\n",
            "10Folds\n"
          ]
        },
        {
          "output_type": "stream",
          "name": "stderr",
          "text": [
            "/usr/local/lib/python3.7/dist-packages/sklearn/model_selection/_split.py:680: UserWarning: The least populated class in y has only 6 members, which is less than n_splits=10.\n",
            "  UserWarning,\n"
          ]
        },
        {
          "output_type": "stream",
          "name": "stdout",
          "text": [
            "len: 30\n",
            "[5043, 7701, 4628, 5443, 6885, 2959, 13, 4704, 6960, 2309, 2914, 8824, 3292, 6190, 756, 245, 7145, 8111, 5024, 6662, 6386, 774, 4956, 1114, 451, 6629, 3783, 1738, 8434, 7695]\n",
            "10Folds\n"
          ]
        },
        {
          "output_type": "stream",
          "name": "stderr",
          "text": [
            "/usr/local/lib/python3.7/dist-packages/sklearn/model_selection/_split.py:680: UserWarning: The least populated class in y has only 6 members, which is less than n_splits=10.\n",
            "  UserWarning,\n",
            "/usr/local/lib/python3.7/dist-packages/sklearn/linear_model/_logistic.py:818: ConvergenceWarning: lbfgs failed to converge (status=1):\n",
            "STOP: TOTAL NO. of ITERATIONS REACHED LIMIT.\n",
            "\n",
            "Increase the number of iterations (max_iter) or scale the data as shown in:\n",
            "    https://scikit-learn.org/stable/modules/preprocessing.html\n",
            "Please also refer to the documentation for alternative solver options:\n",
            "    https://scikit-learn.org/stable/modules/linear_model.html#logistic-regression\n",
            "  extra_warning_msg=_LOGISTIC_SOLVER_CONVERGENCE_MSG,\n",
            "/usr/local/lib/python3.7/dist-packages/sklearn/linear_model/_logistic.py:818: ConvergenceWarning: lbfgs failed to converge (status=1):\n",
            "STOP: TOTAL NO. of ITERATIONS REACHED LIMIT.\n",
            "\n",
            "Increase the number of iterations (max_iter) or scale the data as shown in:\n",
            "    https://scikit-learn.org/stable/modules/preprocessing.html\n",
            "Please also refer to the documentation for alternative solver options:\n",
            "    https://scikit-learn.org/stable/modules/linear_model.html#logistic-regression\n",
            "  extra_warning_msg=_LOGISTIC_SOLVER_CONVERGENCE_MSG,\n",
            "/usr/local/lib/python3.7/dist-packages/sklearn/linear_model/_logistic.py:818: ConvergenceWarning: lbfgs failed to converge (status=1):\n",
            "STOP: TOTAL NO. of ITERATIONS REACHED LIMIT.\n",
            "\n",
            "Increase the number of iterations (max_iter) or scale the data as shown in:\n",
            "    https://scikit-learn.org/stable/modules/preprocessing.html\n",
            "Please also refer to the documentation for alternative solver options:\n",
            "    https://scikit-learn.org/stable/modules/linear_model.html#logistic-regression\n",
            "  extra_warning_msg=_LOGISTIC_SOLVER_CONVERGENCE_MSG,\n",
            "/usr/local/lib/python3.7/dist-packages/sklearn/linear_model/_logistic.py:818: ConvergenceWarning: lbfgs failed to converge (status=1):\n",
            "STOP: TOTAL NO. of ITERATIONS REACHED LIMIT.\n",
            "\n",
            "Increase the number of iterations (max_iter) or scale the data as shown in:\n",
            "    https://scikit-learn.org/stable/modules/preprocessing.html\n",
            "Please also refer to the documentation for alternative solver options:\n",
            "    https://scikit-learn.org/stable/modules/linear_model.html#logistic-regression\n",
            "  extra_warning_msg=_LOGISTIC_SOLVER_CONVERGENCE_MSG,\n",
            "/usr/local/lib/python3.7/dist-packages/sklearn/linear_model/_logistic.py:818: ConvergenceWarning: lbfgs failed to converge (status=1):\n",
            "STOP: TOTAL NO. of ITERATIONS REACHED LIMIT.\n",
            "\n",
            "Increase the number of iterations (max_iter) or scale the data as shown in:\n",
            "    https://scikit-learn.org/stable/modules/preprocessing.html\n",
            "Please also refer to the documentation for alternative solver options:\n",
            "    https://scikit-learn.org/stable/modules/linear_model.html#logistic-regression\n",
            "  extra_warning_msg=_LOGISTIC_SOLVER_CONVERGENCE_MSG,\n",
            "/usr/local/lib/python3.7/dist-packages/sklearn/linear_model/_logistic.py:818: ConvergenceWarning: lbfgs failed to converge (status=1):\n",
            "STOP: TOTAL NO. of ITERATIONS REACHED LIMIT.\n",
            "\n",
            "Increase the number of iterations (max_iter) or scale the data as shown in:\n",
            "    https://scikit-learn.org/stable/modules/preprocessing.html\n",
            "Please also refer to the documentation for alternative solver options:\n",
            "    https://scikit-learn.org/stable/modules/linear_model.html#logistic-regression\n",
            "  extra_warning_msg=_LOGISTIC_SOLVER_CONVERGENCE_MSG,\n",
            "/usr/local/lib/python3.7/dist-packages/sklearn/linear_model/_logistic.py:818: ConvergenceWarning: lbfgs failed to converge (status=1):\n",
            "STOP: TOTAL NO. of ITERATIONS REACHED LIMIT.\n",
            "\n",
            "Increase the number of iterations (max_iter) or scale the data as shown in:\n",
            "    https://scikit-learn.org/stable/modules/preprocessing.html\n",
            "Please also refer to the documentation for alternative solver options:\n",
            "    https://scikit-learn.org/stable/modules/linear_model.html#logistic-regression\n",
            "  extra_warning_msg=_LOGISTIC_SOLVER_CONVERGENCE_MSG,\n",
            "/usr/local/lib/python3.7/dist-packages/sklearn/linear_model/_logistic.py:818: ConvergenceWarning: lbfgs failed to converge (status=1):\n",
            "STOP: TOTAL NO. of ITERATIONS REACHED LIMIT.\n",
            "\n",
            "Increase the number of iterations (max_iter) or scale the data as shown in:\n",
            "    https://scikit-learn.org/stable/modules/preprocessing.html\n",
            "Please also refer to the documentation for alternative solver options:\n",
            "    https://scikit-learn.org/stable/modules/linear_model.html#logistic-regression\n",
            "  extra_warning_msg=_LOGISTIC_SOLVER_CONVERGENCE_MSG,\n",
            "/usr/local/lib/python3.7/dist-packages/sklearn/linear_model/_logistic.py:818: ConvergenceWarning: lbfgs failed to converge (status=1):\n",
            "STOP: TOTAL NO. of ITERATIONS REACHED LIMIT.\n",
            "\n",
            "Increase the number of iterations (max_iter) or scale the data as shown in:\n",
            "    https://scikit-learn.org/stable/modules/preprocessing.html\n",
            "Please also refer to the documentation for alternative solver options:\n",
            "    https://scikit-learn.org/stable/modules/linear_model.html#logistic-regression\n",
            "  extra_warning_msg=_LOGISTIC_SOLVER_CONVERGENCE_MSG,\n",
            "/usr/local/lib/python3.7/dist-packages/sklearn/linear_model/_logistic.py:818: ConvergenceWarning: lbfgs failed to converge (status=1):\n",
            "STOP: TOTAL NO. of ITERATIONS REACHED LIMIT.\n",
            "\n",
            "Increase the number of iterations (max_iter) or scale the data as shown in:\n",
            "    https://scikit-learn.org/stable/modules/preprocessing.html\n",
            "Please also refer to the documentation for alternative solver options:\n",
            "    https://scikit-learn.org/stable/modules/linear_model.html#logistic-regression\n",
            "  extra_warning_msg=_LOGISTIC_SOLVER_CONVERGENCE_MSG,\n"
          ]
        },
        {
          "output_type": "stream",
          "name": "stdout",
          "text": [
            "len: 50\n",
            "[5043, 7701, 4628, 5443, 6885, 2959, 13, 4704, 6960, 2309, 2914, 8824, 3292, 6190, 756, 245, 7145, 8111, 5024, 6662, 6386, 774, 4956, 1114, 451, 6629, 3783, 1738, 8434, 7695, 3683, 5618, 6622, 80, 6191, 8519, 3108, 3365, 8110, 8305, 6824, 4705, 6993, 557, 7519, 4703, 7833, 1583, 5881, 6776]\n",
            "10Folds\n"
          ]
        },
        {
          "output_type": "stream",
          "name": "stderr",
          "text": [
            "/usr/local/lib/python3.7/dist-packages/sklearn/model_selection/_split.py:680: UserWarning: The least populated class in y has only 6 members, which is less than n_splits=10.\n",
            "  UserWarning,\n"
          ]
        },
        {
          "output_type": "stream",
          "name": "stdout",
          "text": [
            "len: 50\n",
            "[5043, 7701, 4628, 5443, 6885, 2959, 13, 4704, 6960, 2309, 2914, 8824, 3292, 6190, 756, 245, 7145, 8111, 5024, 6662, 6386, 774, 4956, 1114, 451, 6629, 3783, 1738, 8434, 7695, 3683, 5618, 6622, 80, 6191, 8519, 3108, 3365, 8110, 8305, 6824, 4705, 6993, 557, 7519, 4703, 7833, 1583, 5881, 6776]\n",
            "10Folds\n"
          ]
        },
        {
          "output_type": "stream",
          "name": "stderr",
          "text": [
            "/usr/local/lib/python3.7/dist-packages/sklearn/model_selection/_split.py:680: UserWarning: The least populated class in y has only 6 members, which is less than n_splits=10.\n",
            "  UserWarning,\n"
          ]
        },
        {
          "output_type": "stream",
          "name": "stdout",
          "text": [
            "len: 50\n",
            "[5043, 7701, 4628, 5443, 6885, 2959, 13, 4704, 6960, 2309, 2914, 8824, 3292, 6190, 756, 245, 7145, 8111, 5024, 6662, 6386, 774, 4956, 1114, 451, 6629, 3783, 1738, 8434, 7695, 3683, 5618, 6622, 80, 6191, 8519, 3108, 3365, 8110, 8305, 6824, 4705, 6993, 557, 7519, 4703, 7833, 1583, 5881, 6776]\n",
            "10Folds\n"
          ]
        },
        {
          "output_type": "stream",
          "name": "stderr",
          "text": [
            "/usr/local/lib/python3.7/dist-packages/sklearn/model_selection/_split.py:680: UserWarning: The least populated class in y has only 6 members, which is less than n_splits=10.\n",
            "  UserWarning,\n"
          ]
        },
        {
          "output_type": "stream",
          "name": "stdout",
          "text": [
            "len: 50\n",
            "[5043, 7701, 4628, 5443, 6885, 2959, 13, 4704, 6960, 2309, 2914, 8824, 3292, 6190, 756, 245, 7145, 8111, 5024, 6662, 6386, 774, 4956, 1114, 451, 6629, 3783, 1738, 8434, 7695, 3683, 5618, 6622, 80, 6191, 8519, 3108, 3365, 8110, 8305, 6824, 4705, 6993, 557, 7519, 4703, 7833, 1583, 5881, 6776]\n",
            "10Folds\n"
          ]
        },
        {
          "output_type": "stream",
          "name": "stderr",
          "text": [
            "/usr/local/lib/python3.7/dist-packages/sklearn/model_selection/_split.py:680: UserWarning: The least populated class in y has only 6 members, which is less than n_splits=10.\n",
            "  UserWarning,\n"
          ]
        },
        {
          "output_type": "stream",
          "name": "stdout",
          "text": [
            "len: 50\n",
            "[5043, 7701, 4628, 5443, 6885, 2959, 13, 4704, 6960, 2309, 2914, 8824, 3292, 6190, 756, 245, 7145, 8111, 5024, 6662, 6386, 774, 4956, 1114, 451, 6629, 3783, 1738, 8434, 7695, 3683, 5618, 6622, 80, 6191, 8519, 3108, 3365, 8110, 8305, 6824, 4705, 6993, 557, 7519, 4703, 7833, 1583, 5881, 6776]\n",
            "10Folds\n"
          ]
        },
        {
          "output_type": "stream",
          "name": "stderr",
          "text": [
            "/usr/local/lib/python3.7/dist-packages/sklearn/model_selection/_split.py:680: UserWarning: The least populated class in y has only 6 members, which is less than n_splits=10.\n",
            "  UserWarning,\n",
            "/usr/local/lib/python3.7/dist-packages/sklearn/linear_model/_logistic.py:818: ConvergenceWarning: lbfgs failed to converge (status=1):\n",
            "STOP: TOTAL NO. of ITERATIONS REACHED LIMIT.\n",
            "\n",
            "Increase the number of iterations (max_iter) or scale the data as shown in:\n",
            "    https://scikit-learn.org/stable/modules/preprocessing.html\n",
            "Please also refer to the documentation for alternative solver options:\n",
            "    https://scikit-learn.org/stable/modules/linear_model.html#logistic-regression\n",
            "  extra_warning_msg=_LOGISTIC_SOLVER_CONVERGENCE_MSG,\n",
            "/usr/local/lib/python3.7/dist-packages/sklearn/linear_model/_logistic.py:818: ConvergenceWarning: lbfgs failed to converge (status=1):\n",
            "STOP: TOTAL NO. of ITERATIONS REACHED LIMIT.\n",
            "\n",
            "Increase the number of iterations (max_iter) or scale the data as shown in:\n",
            "    https://scikit-learn.org/stable/modules/preprocessing.html\n",
            "Please also refer to the documentation for alternative solver options:\n",
            "    https://scikit-learn.org/stable/modules/linear_model.html#logistic-regression\n",
            "  extra_warning_msg=_LOGISTIC_SOLVER_CONVERGENCE_MSG,\n",
            "/usr/local/lib/python3.7/dist-packages/sklearn/linear_model/_logistic.py:818: ConvergenceWarning: lbfgs failed to converge (status=1):\n",
            "STOP: TOTAL NO. of ITERATIONS REACHED LIMIT.\n",
            "\n",
            "Increase the number of iterations (max_iter) or scale the data as shown in:\n",
            "    https://scikit-learn.org/stable/modules/preprocessing.html\n",
            "Please also refer to the documentation for alternative solver options:\n",
            "    https://scikit-learn.org/stable/modules/linear_model.html#logistic-regression\n",
            "  extra_warning_msg=_LOGISTIC_SOLVER_CONVERGENCE_MSG,\n",
            "/usr/local/lib/python3.7/dist-packages/sklearn/linear_model/_logistic.py:818: ConvergenceWarning: lbfgs failed to converge (status=1):\n",
            "STOP: TOTAL NO. of ITERATIONS REACHED LIMIT.\n",
            "\n",
            "Increase the number of iterations (max_iter) or scale the data as shown in:\n",
            "    https://scikit-learn.org/stable/modules/preprocessing.html\n",
            "Please also refer to the documentation for alternative solver options:\n",
            "    https://scikit-learn.org/stable/modules/linear_model.html#logistic-regression\n",
            "  extra_warning_msg=_LOGISTIC_SOLVER_CONVERGENCE_MSG,\n",
            "/usr/local/lib/python3.7/dist-packages/sklearn/linear_model/_logistic.py:818: ConvergenceWarning: lbfgs failed to converge (status=1):\n",
            "STOP: TOTAL NO. of ITERATIONS REACHED LIMIT.\n",
            "\n",
            "Increase the number of iterations (max_iter) or scale the data as shown in:\n",
            "    https://scikit-learn.org/stable/modules/preprocessing.html\n",
            "Please also refer to the documentation for alternative solver options:\n",
            "    https://scikit-learn.org/stable/modules/linear_model.html#logistic-regression\n",
            "  extra_warning_msg=_LOGISTIC_SOLVER_CONVERGENCE_MSG,\n",
            "/usr/local/lib/python3.7/dist-packages/sklearn/linear_model/_logistic.py:818: ConvergenceWarning: lbfgs failed to converge (status=1):\n",
            "STOP: TOTAL NO. of ITERATIONS REACHED LIMIT.\n",
            "\n",
            "Increase the number of iterations (max_iter) or scale the data as shown in:\n",
            "    https://scikit-learn.org/stable/modules/preprocessing.html\n",
            "Please also refer to the documentation for alternative solver options:\n",
            "    https://scikit-learn.org/stable/modules/linear_model.html#logistic-regression\n",
            "  extra_warning_msg=_LOGISTIC_SOLVER_CONVERGENCE_MSG,\n",
            "/usr/local/lib/python3.7/dist-packages/sklearn/linear_model/_logistic.py:818: ConvergenceWarning: lbfgs failed to converge (status=1):\n",
            "STOP: TOTAL NO. of ITERATIONS REACHED LIMIT.\n",
            "\n",
            "Increase the number of iterations (max_iter) or scale the data as shown in:\n",
            "    https://scikit-learn.org/stable/modules/preprocessing.html\n",
            "Please also refer to the documentation for alternative solver options:\n",
            "    https://scikit-learn.org/stable/modules/linear_model.html#logistic-regression\n",
            "  extra_warning_msg=_LOGISTIC_SOLVER_CONVERGENCE_MSG,\n",
            "/usr/local/lib/python3.7/dist-packages/sklearn/linear_model/_logistic.py:818: ConvergenceWarning: lbfgs failed to converge (status=1):\n",
            "STOP: TOTAL NO. of ITERATIONS REACHED LIMIT.\n",
            "\n",
            "Increase the number of iterations (max_iter) or scale the data as shown in:\n",
            "    https://scikit-learn.org/stable/modules/preprocessing.html\n",
            "Please also refer to the documentation for alternative solver options:\n",
            "    https://scikit-learn.org/stable/modules/linear_model.html#logistic-regression\n",
            "  extra_warning_msg=_LOGISTIC_SOLVER_CONVERGENCE_MSG,\n",
            "/usr/local/lib/python3.7/dist-packages/sklearn/linear_model/_logistic.py:818: ConvergenceWarning: lbfgs failed to converge (status=1):\n",
            "STOP: TOTAL NO. of ITERATIONS REACHED LIMIT.\n",
            "\n",
            "Increase the number of iterations (max_iter) or scale the data as shown in:\n",
            "    https://scikit-learn.org/stable/modules/preprocessing.html\n",
            "Please also refer to the documentation for alternative solver options:\n",
            "    https://scikit-learn.org/stable/modules/linear_model.html#logistic-regression\n",
            "  extra_warning_msg=_LOGISTIC_SOLVER_CONVERGENCE_MSG,\n"
          ]
        }
      ]
    }
  ]
}
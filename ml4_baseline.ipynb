{
  "nbformat": 4,
  "nbformat_minor": 0,
  "metadata": {
    "colab": {
      "provenance": [],
      "collapsed_sections": []
    },
    "kernelspec": {
      "name": "python3",
      "display_name": "Python 3"
    },
    "language_info": {
      "name": "python"
    }
  },
  "cells": [
    {
      "cell_type": "code",
      "source": [
        "import numpy as np\n",
        "import pandas as pd\n",
        "from sklearn.ensemble import RandomForestClassifier\n",
        "from sklearn.linear_model import LogisticRegression\n",
        "from sklearn.svm import SVC\n",
        "from sklearn.neighbors import KNeighborsClassifier\n",
        "from sklearn.naive_bayes import GaussianNB\n",
        "from sklearn.metrics import accuracy_score\n",
        "from sklearn.metrics import roc_auc_score\n",
        "from sklearn.metrics import matthews_corrcoef\n",
        "from sklearn.metrics import precision_recall_curve\n",
        "from sklearn.feature_selection import RFE\n",
        "from sklearn.feature_selection import SelectFdr\n",
        "from sklearn.model_selection import LeavePOut, StratifiedKFold\n",
        "from sklearn.model_selection import LeaveOneOut\n",
        "from sklearn.svm import SVR\n",
        "from ReliefF import ReliefF\n",
        "from sklearn.model_selection import KFold\n",
        "import time\n",
        "from sklearn.feature_selection import SelectKBest"
      ],
      "metadata": {
        "id": "olsW4M9wQiDJ"
      },
      "execution_count": null,
      "outputs": []
    },
    {
      "cell_type": "code",
      "source": [
        "!pip install numpy Cython\n",
        "!pip install -U pymrmr\n",
        "\n",
        "\n",
        "!CC=gcc-10 CXX=g++-10 pip install -U pymrmr"
      ],
      "metadata": {
        "colab": {
          "base_uri": "https://localhost:8080/"
        },
        "id": "bYnBkjS2gfMH",
        "outputId": "8016844a-ce63-4b7f-b265-f3d446d55c02"
      },
      "execution_count": null,
      "outputs": [
        {
          "output_type": "stream",
          "name": "stdout",
          "text": [
            "Looking in indexes: https://pypi.org/simple, https://us-python.pkg.dev/colab-wheels/public/simple/\n",
            "Requirement already satisfied: numpy in /usr/local/lib/python3.7/dist-packages (1.21.6)\n",
            "Requirement already satisfied: Cython in /usr/local/lib/python3.7/dist-packages (0.29.32)\n",
            "Looking in indexes: https://pypi.org/simple, https://us-python.pkg.dev/colab-wheels/public/simple/\n",
            "Requirement already satisfied: pymrmr in /usr/local/lib/python3.7/dist-packages (0.1.11)\n",
            "Requirement already satisfied: numpy>=1.19.5 in /usr/local/lib/python3.7/dist-packages (from pymrmr) (1.21.6)\n",
            "Looking in indexes: https://pypi.org/simple, https://us-python.pkg.dev/colab-wheels/public/simple/\n",
            "Requirement already satisfied: pymrmr in /usr/local/lib/python3.7/dist-packages (0.1.11)\n",
            "Requirement already satisfied: numpy>=1.19.5 in /usr/local/lib/python3.7/dist-packages (from pymrmr) (1.21.6)\n"
          ]
        }
      ]
    },
    {
      "cell_type": "code",
      "source": [
        "import pymrmr"
      ],
      "metadata": {
        "id": "JbtgO6zEg1yv"
      },
      "execution_count": null,
      "outputs": []
    },
    {
      "cell_type": "code",
      "source": [
        "def get_cv(df):\n",
        "    n = df.shape[0]\n",
        "    if n < 50:\n",
        "        return LeavePOut(2), 'LeavePairOut'\n",
        "    if n < 100:\n",
        "        return LeaveOneOut(), 'LeaveOneOut'\n",
        "    if n < 1000:\n",
        "        return StratifiedKFold(n_splits=10), '10Folds'\n",
        "    return StratifiedKFold(n_splits=5), '5Folds'"
      ],
      "metadata": {
        "id": "q_gYJVU_QkBK"
      },
      "execution_count": null,
      "outputs": []
    },
    {
      "cell_type": "code",
      "source": [
        "def run_classification(model, X, y):\n",
        "    cv, cv_name = get_cv(X)\n",
        "    print(cv_name)\n",
        "    fit_times = []\n",
        "    pred_times = []\n",
        "    aucs = []\n",
        "    accs = []\n",
        "    mccs = []\n",
        "    praucs = []\n",
        "    total_folds = cv.get_n_splits(X, y)\n",
        "    for train_index, test_index in cv.split(X, y):\n",
        "        X_train, X_test = X.iloc[train_index], X.iloc[test_index]\n",
        "        y_train, y_test = y.iloc[train_index], y.iloc[test_index]\n",
        "        fit_time = time.time()\n",
        "        model.fit(X_train, y_train)\n",
        "        fit_times.append(time.time() - fit_time)\n",
        "        pred_time = time.time()\n",
        "        probs = model.predict_proba(X_test)\n",
        "        pred_times.append(time.time() - pred_time)\n",
        "        preds = model.predict(X_test)\n",
        "        try:\n",
        "            aucs.append(roc_auc_score(y_test, probs, multi_class='ovo'))\n",
        "        except Exception as e:\n",
        "            # print(str(e))\n",
        "            try:\n",
        "                aucs.append(roc_auc_score(y_test, probs[:, 1], multi_class='ovo'))\n",
        "            except Exception as e:\n",
        "                # print(str(e))\n",
        "                aucs.append(None)\n",
        "        accs.append(accuracy_score(y_test, preds))\n",
        "        mccs.append(matthews_corrcoef(y_test, preds))\n",
        "        try:\n",
        "            precision, _, _ = precision_recall_curve(y_test, probs[:, 1], pos_label=y_test.unique()[1,])\n",
        "        except:\n",
        "            precision = None\n",
        "        praucs.append(precision)\n",
        "    return fit_times, pred_times, aucs, accs, mccs, praucs, total_folds, cv_name"
      ],
      "metadata": {
        "id": "jjMw-udUQuBM"
      },
      "execution_count": null,
      "outputs": []
    },
    {
      "cell_type": "code",
      "source": [
        "def ReliefF_selector(x, y, k):\n",
        "    fs = ReliefF(n_neighbors=1, n_features_to_keep=k)\n",
        "    fs.fit(x.to_numpy(), y)\n",
        "    f_names = fs.top_features[:k]\n",
        "    scores = fs.feature_scores[:k]\n",
        "    feature_names_in_ = x.columns\n",
        "    x_to = x.iloc[:, f_names]\n",
        "    return x_to, scores, f_names, feature_names_in_"
      ],
      "metadata": {
        "id": "dw2sHWSMT0Vv"
      },
      "execution_count": null,
      "outputs": []
    },
    {
      "cell_type": "code",
      "source": [
        "def rfe_selector(x, y, k):\n",
        "    estimator = SVR(kernel=\"linear\")\n",
        "    selector = RFE(estimator, n_features_to_select=k, step=1)\n",
        "    selector.fit(x, y)\n",
        "    f_names = selector.get_feature_names_out(x.columns)\n",
        "    return x[f_names], selector.scores_, f_names, x.columns"
      ],
      "metadata": {
        "id": "1daguHLlQwjS"
      },
      "execution_count": null,
      "outputs": []
    },
    {
      "cell_type": "code",
      "source": [
        "def fdr_selector(x, y, k):\n",
        "    fdr = SelectFdr(alpha=0.01)\n",
        "    fdr.fit(x, y)\n",
        "    feature_names_in_ = fdr.get_feature_names_out(x.columns)\n",
        "    fs_fdr = x[feature_names_in_]\n",
        "    fs_f = SelectKBest(k=k)\n",
        "    fs_f.fit(fs_fdr, y)\n",
        "    f_names = fs_f.get_feature_names_out(fs_fdr.columns)\n",
        "    return fs_fdr[f_names], fs_f.scores_, f_names, feature_names_in_"
      ],
      "metadata": {
        "id": "VzReql54Qx1X"
      },
      "execution_count": null,
      "outputs": []
    },
    {
      "cell_type": "code",
      "source": [
        "def mRMR_selector(df, x, y, k):\n",
        "  cols = df.columns.to_list()\n",
        "  df = df[['y'] + cols]\n",
        "  df = df.iloc[: , :-1]\n",
        "  names_f = pymrmr.mRMR(df, 'MIQ', k)\n",
        "  fs_f = SelectKBest(k=k)\n",
        "  fs_f.fit(x[names_f], y)\n",
        "  feature_names_in_ = df.columns[1:]\n",
        "  return x[names_f], fs_f.scores_, names_f, feature_names_in_\n"
      ],
      "metadata": {
        "id": "lsNndrKgjb1K"
      },
      "execution_count": null,
      "outputs": []
    },
    {
      "cell_type": "code",
      "source": [
        "def get_model(model):\n",
        "    models = {'RandomForest': RandomForestClassifier(), 'LogisticRegression': LogisticRegression(),\n",
        "              'svm': SVC(probability=True),\n",
        "              'NB': GaussianNB(), 'knn': KNeighborsClassifier()}\n",
        "    return models[model]"
      ],
      "metadata": {
        "id": "bofM8ZFaQ0Vv"
      },
      "execution_count": null,
      "outputs": []
    },
    {
      "cell_type": "code",
      "execution_count": null,
      "metadata": {
        "id": "vRO8QgUaQeTK"
      },
      "outputs": [],
      "source": [
        "def main():\n",
        "    ks = [1, 2, 3, 4, 5, 10, 15, 20, 25, 30, 50, 100]\n",
        "    names = ['CLL-SUB-111', 'ALLAML', 'BASEHOCK', 'COIL20', 'Carcinom', 'pone.0202167.s016', 'pone.0202167.s017',\n",
        "             'bladderbatch', 'ayeastCC', 'breastCancerVDX', 'curatedOvarianData', 'leukemiasEset', 'Lung', 'Lymphoma',\n",
        "             'MLL', 'SRBCT', 'CNS', 'pone.0202167.s011', 'pone.0202167.s012', 'pone.0202167.s015']\n",
        "\n",
        "\n",
        "\n",
        "    for i in range(20):\n",
        "        try:\n",
        "              save = pd.DataFrame(\n",
        "                columns=['Dataset Name', 'Number of samples', 'Original Number of features', 'Filtering Algorithm',\n",
        "                 'Learning algorithm', 'Number of features selected (K)', 'CV Method', 'Fold', 'Measure Type',\n",
        "                 'Measure Value', 'List of Selected Features Names', 'Selected Features scores'])\n",
        "              df = pd.read_csv(f'datasets/dataset_{i}.csv').drop(columns=['Unnamed: 0'])\n",
        "              x = df.drop(columns=['y'])\n",
        "              y = df['y']\n",
        "              print(x.shape[1])\n",
        "              for k in ks:\n",
        "                  feature_selection_time = time.time()\n",
        "                  # X, f_scores, names_f, feature_names_in_ = fdr_selector(x, y, k)\n",
        "                  # X, f_scores, names_f, feature_names_in_ = rfe_selector(x, y, k)\n",
        "                  # X, f_scores, names_f, feature_names_in_ = ReliefF_selector(x, y, k)\n",
        "                  X, f_scores, names_f, feature_names_in_ = mRMR_selector(df, x, y, k)\n",
        "                  feature_selection_time = time.time() - feature_selection_time\n",
        "                  models = ['svm', 'knn', 'RandomForest', 'NB', 'LogisticRegression']\n",
        "                  for m in models:\n",
        "                      model = get_model(m)\n",
        "                      ind = [np.where(feature_names_in_ == name)[0][0] for name in names_f]\n",
        "                      print('len:', len(f_scores))\n",
        "                      print(ind)\n",
        "                      scores = f_scores\n",
        "                      fit_times, pred_times, aucs, accs, mccs, praucs, total_folds, cv_name = run_classification(model,\n",
        "                                                                                                                pd.DataFrame(\n",
        "                                                                                                                    X), y)\n",
        "                      row_auc = [names[i], X.shape[0], X.shape[1], 'mRMR', m, k, cv_name, total_folds, 'AUC', aucs,\n",
        "                                str(names_f), scores]\n",
        "                      save.loc[len(save)] = row_auc\n",
        "                      row_acc = [names[i], X.shape[0], X.shape[1], 'mRMR', m, k, cv_name, total_folds, 'ACC', accs,\n",
        "                                str(names_f), scores]\n",
        "                      save.loc[len(save)] = row_acc\n",
        "                      row_mcc = [names[i], X.shape[0], X.shape[1], 'mRMR', m, k, cv_name, total_folds, 'MCC', mccs,\n",
        "                                str(names_f), scores]\n",
        "                      save.loc[len(save)] = row_mcc\n",
        "                      row_prauc = [names[i], X.shape[0], X.shape[1], 'mRMR', m, k, cv_name, total_folds, 'PR-AU',\n",
        "                                  praucs, str(names_f), scores]\n",
        "                      save.loc[len(save)] = row_prauc\n",
        "                      row_pred_time = [names[i], X.shape[0], X.shape[1], 'mRMR', m, k, cv_name, total_folds,\n",
        "                                      'prediction time', pred_times, str(names_f), scores]\n",
        "                      save.loc[len(save)] = row_pred_time\n",
        "                      row_fit_time = [names[i], X.shape[0], X.shape[1], 'mRMR', m, k, cv_name, total_folds, 'fit time',\n",
        "                                      fit_times, str(names_f), scores]\n",
        "                      save.loc[len(save)] = row_fit_time\n",
        "                      row_selection_time = [names[i], X.shape[0], X.shape[1], 'mRMR', m, k, cv_name, total_folds,\n",
        "                                            'feature selection time', feature_selection_time, str(names_f), scores]\n",
        "                      save.loc[len(save)] = row_selection_time\n",
        "              print('-----------------------------------------')\n",
        "              print(i)\n",
        "              save.to_csv(f'fre_selector_{i}.csv')\n",
        "        except Exception as e:\n",
        "          print(e)\n",
        "          print(f'WORNING - {i} failed')"
      ]
    },
    {
      "cell_type": "code",
      "source": [
        "main()"
      ],
      "metadata": {
        "id": "GvAusL4tQ7QJ"
      },
      "execution_count": null,
      "outputs": []
    }
  ]
}
